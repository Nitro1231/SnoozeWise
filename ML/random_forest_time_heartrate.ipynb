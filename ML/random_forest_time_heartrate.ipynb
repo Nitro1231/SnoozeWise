{
 "cells": [
  {
   "cell_type": "code",
   "execution_count": 1,
   "id": "e4274587-a732-4ab7-b06e-50ca6c547a72",
   "metadata": {},
   "outputs": [],
   "source": [
    "# ! pip install imbalanced-learn\n",
    "# ! pip install --force-reinstall 'scikit-learn==0.19.2' \n",
    "# ! pip install pickle-mixin\n",
    "# ! pip install --force-reinstall 'scikit-learn==0.19.2' "
   ]
  },
  {
   "cell_type": "code",
   "execution_count": 2,
   "id": "1b65b8e5-c1bd-4adc-b798-be6e527e65bc",
   "metadata": {},
   "outputs": [
    {
     "name": "stderr",
     "output_type": "stream",
     "text": [
      "WARNING:root:TensorFlow version 2.6.2 detected. Last version known to be fully compatible is 2.3.1 .\n",
      "WARNING:root:Keras version 2.6.0 detected. Last version known to be fully compatible of Keras is 2.2.4 .\n"
     ]
    }
   ],
   "source": [
    "import math\n",
    "import json\n",
    "import pickle\n",
    "import numpy as np\n",
    "import pandas as pd\n",
    "import coremltools as ct\n",
    "import matplotlib.pyplot as plt\n",
    "from datetime import datetime, timedelta\n",
    "from collections import defaultdict\n",
    "\n",
    "import tensorflow as tf\n",
    "from sklearn.model_selection import train_test_split\n",
    "from tensorflow.keras.callbacks import EarlyStopping, ReduceLROnPlateau\n",
    "\n",
    "import matplotlib.pyplot as plt"
   ]
  },
  {
   "cell_type": "code",
   "execution_count": 3,
   "id": "8def0a8c-fcd1-4b86-a8b7-645a6bf7f00e",
   "metadata": {},
   "outputs": [],
   "source": [
    "STAGE = {\n",
    "    'In Bed': 0,\n",
    "    'Awake': 1,\n",
    "    'Asleep': 2,\n",
    "    'REM': 3,\n",
    "    'Core': 4,\n",
    "    'Deep': 5,\n",
    "    'Unknown': 6\n",
    "}"
   ]
  },
  {
   "cell_type": "code",
   "execution_count": 4,
   "id": "643e7bb3-acb1-4a09-9c87-e28014b6da73",
   "metadata": {},
   "outputs": [],
   "source": [
    "def load_json(path: str) -> dict:\n",
    "    with open(path, 'r') as file:\n",
    "        return json.load(file)\n",
    "\n",
    "def parse_time(time: str) -> datetime:\n",
    "    return datetime.strptime(time, '%Y-%m-%d %H:%M:%S')\n",
    "\n",
    "def to_min(cur_time: datetime, start_time: datetime) -> int:\n",
    "    return int((cur_time - start_time).total_seconds()//60)\n",
    "\n",
    "def process_sleep_data(sleep_data: dict) -> dict:\n",
    "    stages_by_day = defaultdict(dict)\n",
    "\n",
    "    for data in sleep_data:\n",
    "        if data['stage'] in ['Awake', 'REM', 'Core', 'Deep']:\n",
    "            start_time = parse_time(data['start_time'])\n",
    "            end_time = parse_time(data['end_time'])\n",
    "            day = end_time.strftime('%Y-%m-%d')\n",
    "\n",
    "            if not day in stages_by_day:\n",
    "                stages_by_day[day]['stages'] = list()\n",
    "                \n",
    "            stages_by_day[day]['stages'].append({\n",
    "                'start_time': start_time,\n",
    "                'end_time': end_time,\n",
    "                'stage': STAGE[data['stage']]\n",
    "            })\n",
    "\n",
    "    for date, data in stages_by_day.items():\n",
    "        stages_by_day[date]['stages'] = sorted(data['stages'], key=lambda x: x['start_time'])\n",
    "        stages_by_day[date]['start_time'] = stages_by_day[date]['stages'][0]['start_time']\n",
    "        stages_by_day[date]['end_time'] = stages_by_day[date]['stages'][-1]['end_time']\n",
    "        stages_by_day[date]['day_of_week'] = stages_by_day[date]['start_time'].weekday()\n",
    "\n",
    "    return stages_by_day\n",
    "\n",
    "def process_heart_rate_data(heart_rate_data: dict, stage_data: dict)  -> dict:\n",
    "    for data in heart_rate_data:\n",
    "        start_time = parse_time(data['startDate'])\n",
    "        end_time = parse_time(data['endDate'])\n",
    "        day = end_time.strftime('%Y-%m-%d')\n",
    "        \n",
    "        if day in stage_data and (stage_data[day]['start_time'] <= start_time and end_time <= stage_data[day]['end_time']):\n",
    "            if 'heart_rate_intervals' not in stage_data[day]:\n",
    "                stage_data[day]['heart_rate_intervals'] = []\n",
    "            stage_data[day]['heart_rate_intervals'].append({\n",
    "                'start_time': start_time,\n",
    "                'end_time': end_time,\n",
    "                'bpm': data['bpm']\n",
    "            })\n",
    "\n",
    "    for data in stage_data.values():\n",
    "        if 'heart_rate_intervals' not in data:\n",
    "            data['heart_rate_intervals'] = []\n",
    "            \n",
    "        data['heart_rate_intervals'] = sorted(data['heart_rate_intervals'], key=lambda x: x['start_time'])\n",
    "    \n",
    "    return stage_data\n",
    "\n",
    "def post_process(stage_data: dict) -> pd.DataFrame:\n",
    "    def find_closest_heart_rate(heart_rate_intervals, timestamp):\n",
    "        closest_hr = None\n",
    "        min_difference = float('inf')\n",
    "\n",
    "        for hr in heart_rate_intervals:\n",
    "            start, end, heart_rate = hr['start_time'], hr['end_time'], hr['bpm']\n",
    "            \n",
    "            if start <= timestamp <= end:\n",
    "                return heart_rate\n",
    "            \n",
    "            difference = min(abs(start - timestamp), abs(end - timestamp))\n",
    "            if difference.seconds < min_difference:\n",
    "                min_difference = difference.seconds\n",
    "                closest_hr = heart_rate\n",
    "\n",
    "        return closest_hr\n",
    "\n",
    "    ml_data = list()\n",
    "    for date, data in stage_data.items():\n",
    "       \n",
    "        for interval,item in enumerate(data['stages']):  # sorted ascendingly\n",
    "            \n",
    "            heart_rate_intervals = [d for d in data['heart_rate_intervals'] if (item['start_time'] <= d['start_time'] and d['end_time'] <= item['end_time'])]\n",
    "            if len(heart_rate_intervals) == 0:\n",
    "                continue\n",
    "                \n",
    "            timeline = []\n",
    "            current_time = item['start_time']\n",
    "            while current_time < item['end_time']:\n",
    "                heart_rate = find_closest_heart_rate(heart_rate_intervals, current_time)\n",
    "                timeline.append(heart_rate)\n",
    "                current_time += timedelta(minutes=1)\n",
    "            \n",
    "            stime = item['start_time'].time()\n",
    "            stime_in_min = stime.hour*60 + stime.minute\n",
    "            etime = item['end_time'].time()\n",
    "            etime_in_min = etime.hour*60 + etime.minute\n",
    "            \n",
    "            desired_size = 159\n",
    "            hri = timeline + [0] * (desired_size - len(timeline))\n",
    "            \n",
    "            if any(v != 0 for v in hri):\n",
    "                ml_data.append((\n",
    "                    stime_in_min,\n",
    "                    etime_in_min,\n",
    "                    interval,\n",
    "                    item['stage'],\n",
    "                    hri\n",
    "                ))\n",
    "    return pd.DataFrame(ml_data, columns=['start_time', 'end_time', 'time_step', 'stage', 'heart_rate_intervals'])"
   ]
  },
  {
   "cell_type": "code",
   "execution_count": 5,
   "id": "faa8d862",
   "metadata": {},
   "outputs": [],
   "source": [
    "sleep_data = load_json('./sleepData.json')['sleep_data']\n",
    "stage_data = process_sleep_data(sleep_data)"
   ]
  },
  {
   "cell_type": "code",
   "execution_count": 6,
   "id": "67a4d527-6c28-48b1-8951-97c9258493d6",
   "metadata": {},
   "outputs": [],
   "source": [
    "heart_rate_data = load_json('./filteredHeartRate.json')\n",
    "total_data = process_heart_rate_data(heart_rate_data, stage_data)"
   ]
  },
  {
   "cell_type": "code",
   "execution_count": 7,
   "id": "f34b8940",
   "metadata": {},
   "outputs": [],
   "source": [
    "ml_data = post_process(total_data)"
   ]
  },
  {
   "cell_type": "code",
   "execution_count": 8,
   "id": "92b4499c",
   "metadata": {},
   "outputs": [
    {
     "name": "stdout",
     "output_type": "stream",
     "text": [
      "   start_time  end_time  time_step  stage  \\\n",
      "0         113       127          0      4   \n",
      "1         127       145          1      5   \n",
      "2         145       157          2      4   \n",
      "3         157       167          3      5   \n",
      "4         167       172          4      4   \n",
      "\n",
      "                                heart_rate_intervals  \n",
      "0  [97, 97, 97, 97, 97, 93, 93, 107.0000000000000...  \n",
      "1  [141, 145, 152, 156, 157, 155, 156, 159, 161, ...  \n",
      "2  [164, 163, 165, 166, 167, 168, 169.00000000000...  \n",
      "3  [120, 118, 114, 153, 165, 165, 166, 158, 132, ...  \n",
      "4  [115, 116, 151, 159, 161, 0, 0, 0, 0, 0, 0, 0,...  \n",
      "<class 'pandas.core.frame.DataFrame'>\n",
      "RangeIndex: 6277 entries, 0 to 6276\n",
      "Data columns (total 5 columns):\n",
      " #   Column                Non-Null Count  Dtype \n",
      "---  ------                --------------  ----- \n",
      " 0   start_time            6277 non-null   int64 \n",
      " 1   end_time              6277 non-null   int64 \n",
      " 2   time_step             6277 non-null   int64 \n",
      " 3   stage                 6277 non-null   int64 \n",
      " 4   heart_rate_intervals  6277 non-null   object\n",
      "dtypes: int64(4), object(1)\n",
      "memory usage: 245.3+ KB\n"
     ]
    }
   ],
   "source": [
    "print(ml_data.head())\n",
    "ml_data.info()"
   ]
  },
  {
   "cell_type": "code",
   "execution_count": 9,
   "id": "a08bf926",
   "metadata": {},
   "outputs": [
    {
     "data": {
      "text/plain": [
       "start_time                                                            113\n",
       "end_time                                                              127\n",
       "time_step                                                               0\n",
       "stage                                                                   4\n",
       "heart_rate_intervals    [97, 97, 97, 97, 97, 93, 93, 107.0000000000000...\n",
       "interval_size                                                          14\n",
       "Name: 0, dtype: object"
      ]
     },
     "execution_count": 9,
     "metadata": {},
     "output_type": "execute_result"
    }
   ],
   "source": [
    "# len(max(ml_data['heart_rate_intervals'].values, key=lambda x: len(x)))\n",
    "ml_data['interval_size'] = ml_data['end_time'] - ml_data['start_time']\n",
    "# ml_data['interval_size'].max()\n",
    "# ml_data.iloc[:100]\n",
    "# type(ml_data.iloc[0]['heart_rate_intervals'][0])\n",
    "\n",
    "# print(any(ml_data[ml_data.isnull().any(axis=1)]))\n",
    "# len(ml_data[ml_data.isnull().any(axis=1)])\n",
    "\n",
    "# for i in range(1):\n",
    "#     print(ml_data.iloc[i]['interval_size'], len(ml_data.iloc[i]['heart_rate_intervals']), ml_data.iloc[i]['heart_rate_intervals'])\n",
    "\n",
    "ml_data.iloc[0]"
   ]
  },
  {
   "cell_type": "code",
   "execution_count": 10,
   "id": "c78f2a90",
   "metadata": {},
   "outputs": [
    {
     "name": "stdout",
     "output_type": "stream",
     "text": [
      "(6277, 4) (5021, 4, 1) (1256, 4, 1) (5021, 159) (1256, 159)\n",
      "Epoch 1/5\n",
      "32/32 [==============================] - 1s 12ms/step - loss: 621.9459 - val_loss: 605.5031\n",
      "Epoch 2/5\n",
      "32/32 [==============================] - 0s 3ms/step - loss: 584.2538 - val_loss: 551.2745\n",
      "Epoch 3/5\n",
      "32/32 [==============================] - 0s 3ms/step - loss: 534.3569 - val_loss: 510.7418\n",
      "Epoch 4/5\n",
      "32/32 [==============================] - 0s 3ms/step - loss: 499.5717 - val_loss: 480.4932\n",
      "Epoch 5/5\n",
      "32/32 [==============================] - 0s 3ms/step - loss: 472.6609 - val_loss: 456.0802\n",
      "40/40 [==============================] - 0s 853us/step - loss: 458.6741\n",
      "Test Loss: 458.6741027832031\n"
     ]
    }
   ],
   "source": [
    "X = ml_data[['start_time', 'end_time', 'time_step', 'stage']].values.astype('float32')\n",
    "Y = np.vstack(ml_data['heart_rate_intervals'].values).astype('float32')\n",
    "\n",
    "X_train, X_test, Y_train, Y_test = train_test_split(X, Y, test_size=0.2, random_state=42)\n",
    "\n",
    "X_train = X_train.reshape(X_train.shape[0], X_train.shape[1], 1) # reshape X data into 3-dim for LSTM\n",
    "X_test = X_test.reshape(X_test.shape[0], X_test.shape[1], 1)\n",
    "\n",
    "print(X.shape, X_train.shape, X_test.shape, Y_train.shape, Y_test.shape)\n",
    "\n",
    "\n",
    "model = tf.keras.Sequential([\n",
    "    tf.keras.layers.LSTM(64, return_sequences=False, input_shape=(X.shape[1], 1)),\n",
    "    tf.keras.layers.Dense(159)\n",
    "])\n",
    "\n",
    "\n",
    "model.compile(optimizer='adam', loss='mse')\n",
    "model.fit(X_train, Y_train, epochs=5, batch_size=128, validation_split=0.2)\n",
    "\n",
    "\n",
    "loss = model.evaluate(X_test, Y_test)\n",
    "print(\"Test Loss:\", loss)"
   ]
  },
  {
   "cell_type": "code",
   "execution_count": null,
   "id": "1e93ca99",
   "metadata": {},
   "outputs": [],
   "source": []
  },
  {
   "cell_type": "code",
   "execution_count": 11,
   "id": "840a9b2d",
   "metadata": {},
   "outputs": [
    {
     "name": "stdout",
     "output_type": "stream",
     "text": [
      "(1256, 4, 1)\n"
     ]
    }
   ],
   "source": [
    "print(X_test.shape)\n",
    "# model.predict(X_test)"
   ]
  },
  {
   "cell_type": "code",
   "execution_count": 12,
   "id": "ec8ec804",
   "metadata": {},
   "outputs": [
    {
     "name": "stdout",
     "output_type": "stream",
     "text": [
      "1900-01-01 11:12:00 1900-01-01 11:23:00\n"
     ]
    },
    {
     "data": {
      "image/png": "[encoded data removed]",
      "text/plain": [
       "<Figure size 720x432 with 1 Axes>"
      ]
     },
     "metadata": {
      "needs_background": "light"
     },
     "output_type": "display_data"
    }
   ],
   "source": [
    "import datetime\n",
    "\n",
    "predictions = model.predict(X_test)[0].astype(int)\n",
    "t = ml_data[ (ml_data['start_time'] == int(X_test[0][0][0])) & (ml_data['end_time'] == int(X_test[0][1][0]))].iloc[0]\n",
    "\n",
    "start_time = datetime.datetime.strptime('00:00', '%H:%M')\n",
    "print(start_time + datetime.timedelta(minutes=int(t['start_time'])), start_time + datetime.timedelta(minutes=int(t['end_time'])))\n",
    "ST = int(t['start_time'])\n",
    "\n",
    "x = []\n",
    "y = []\n",
    "for i in range(t['interval_size']):\n",
    "    start_date = start_time + datetime.timedelta(minutes=ST + i)\n",
    "    bpm = predictions[i]\n",
    "    \n",
    "    x.append(start_date)\n",
    "    y.append(bpm)\n",
    "\n",
    "# Plotting\n",
    "plt.figure(figsize=(10, 6))\n",
    "plt.plot(x, y, marker='o', linestyle='-', label='predicted')\n",
    "plt.plot(x, t['heart_rate_intervals'][:t['interval_size']], marker='s', linestyle='--', color='r', label='true')\n",
    "plt.xlabel('Date')\n",
    "plt.ylabel('BPM')\n",
    "plt.title('Predicted Heart Rate over Time')\n",
    "plt.grid(True)\n",
    "plt.xticks(rotation=45)\n",
    "plt.tight_layout()\n",
    "plt.legend()\n",
    "plt.show()\n",
    "\n"
   ]
  },
  {
   "cell_type": "code",
   "execution_count": 17,
   "id": "fa5aac95",
   "metadata": {},
   "outputs": [
    {
     "name": "stderr",
     "output_type": "stream",
     "text": [
      "WARNING:absl:Found untraced functions such as lstm_cell_layer_call_fn, lstm_cell_layer_call_and_return_conditional_losses, lstm_cell_layer_call_fn, lstm_cell_layer_call_and_return_conditional_losses, lstm_cell_layer_call_and_return_conditional_losses while saving (showing 5 of 5). These functions will not be directly callable after loading.\n"
     ]
    }
   ],
   "source": [
    "model.save('LSTMHeartRateModel')"
   ]
  },
  {
   "cell_type": "code",
   "execution_count": 13,
   "id": "d00dc8e7",
   "metadata": {},
   "outputs": [
    {
     "name": "stderr",
     "output_type": "stream",
     "text": [
      "Running TensorFlow Graph Passes: 100%|██████████| 5/5 [00:00<00:00, 13.89 passes/s]\n",
      "Converting Frontend ==> MIL Ops:   0%|          | 0/45 [00:00<?, ? ops/s]\n",
      "Converting Frontend ==> MIL Ops: 100%|██████████| 14/14 [00:00<00:00, 29040.68 ops/s]\n",
      "\n",
      "Converting Frontend ==> MIL Ops:   0%|          | 0/40 [00:00<?, ? ops/s]\u001b[AWARNING:root:Input ls elem type unknown. Override with <class 'coremltools.converters.mil.mil.types.type_tensor.tensor.<locals>.tensor'>\n",
      "Converting Frontend ==> MIL Ops: 100%|██████████| 40/40 [00:00<00:00, 5035.33 ops/s]\n",
      "\n",
      "Converting Frontend ==> MIL Ops: 100%|██████████| 14/14 [00:00<00:00, 19102.23 ops/s]\n",
      "\n",
      "Converting Frontend ==> MIL Ops:   0%|          | 0/40 [00:00<?, ? ops/s]\u001b[AWARNING:root:Input ls elem type unknown. Override with <class 'coremltools.converters.mil.mil.types.type_tensor.tensor.<locals>.tensor'>\n",
      "Converting Frontend ==> MIL Ops: 100%|██████████| 40/40 [00:00<00:00, 5956.55 ops/s]\n",
      "Converting Frontend ==> MIL Ops: 100%|██████████| 45/45 [00:00<00:00, 851.22 ops/s]\n",
      "Running MIL Common passes: 100%|██████████| 33/33 [00:00<00:00, 2155.14 passes/s]\n",
      "Running MIL Clean up passes: 100%|██████████| 8/8 [00:00<00:00, 3681.64 passes/s]\n",
      "Translating MIL ==> NeuralNetwork Ops:   0%|          | 0/38 [00:00<?, ? ops/s]\n",
      "Translating MIL ==> NeuralNetwork Ops: 100%|██████████| 1/1 [00:00<00:00, 2232.20 ops/s]\n",
      "\n",
      "Translating MIL ==> NeuralNetwork Ops: 100%|██████████| 24/24 [00:00<00:00, 5167.79 ops/s]\n",
      "Translating MIL ==> NeuralNetwork Ops: 100%|██████████| 38/38 [00:00<00:00, 2446.86 ops/s]\n"
     ]
    }
   ],
   "source": [
    "coreml_model = ct.convert(\n",
    "    model,\n",
    "    inputs = [ct.TensorType(name=\"lstm_input\", shape=(1,4,1))]\n",
    ")\n",
    "coreml_model.save(\"LSTMHeartRate.mlmodel\")"
   ]
  }
 ],
 "metadata": {
  "kernelspec": {
   "display_name": "Python 3",
   "language": "python",
   "name": "python3"
  },
  "language_info": {
   "codemirror_mode": {
    "name": "ipython",
    "version": 3
   },
   "file_extension": ".py",
   "mimetype": "text/x-python",
   "name": "python",
   "nbconvert_exporter": "python",
   "pygments_lexer": "ipython3",
   "version": "3.6.13"
  }
 },
 "nbformat": 4,
 "nbformat_minor": 5
}
