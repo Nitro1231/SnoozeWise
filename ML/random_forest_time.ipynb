{
 "cells": [
  {
   "cell_type": "code",
   "execution_count": 67,
   "id": "e4274587-a732-4ab7-b06e-50ca6c547a72",
   "metadata": {},
   "outputs": [],
   "source": [
    "# ! pip install imbalanced-learn\n",
    "# ! pip install --force-reinstall 'scikit-learn==0.19.2' \n",
    "# ! pip install pickle-mixin\n",
    "# ! pip install --force-reinstall 'scikit-learn==0.19.2' "
   ]
  },
  {
   "cell_type": "code",
   "execution_count": 68,
   "id": "1b65b8e5-c1bd-4adc-b798-be6e527e65bc",
   "metadata": {},
   "outputs": [],
   "source": [
    "import math\n",
    "import json\n",
    "import pickle\n",
    "import numpy as np\n",
    "import pandas as pd\n",
    "import coremltools as ct\n",
    "import matplotlib.pyplot as plt\n",
    "from datetime import datetime, timedelta\n",
    "from collections import defaultdict\n",
    "\n",
    "from sklearn.tree import _tree\n",
    "from sklearn.ensemble import RandomForestClassifier\n",
    "from sklearn.metrics import classification_report, accuracy_score\n",
    "from sklearn.model_selection import train_test_split"
   ]
  },
  {
   "cell_type": "code",
   "execution_count": 69,
   "id": "8def0a8c-fcd1-4b86-a8b7-645a6bf7f00e",
   "metadata": {},
   "outputs": [],
   "source": [
    "STAGE = {\n",
    "    'In Bed': 0,\n",
    "    'Awake': 1,\n",
    "    'Asleep': 2,\n",
    "    'REM': 3,\n",
    "    'Core': 4,\n",
    "    'Deep': 5,\n",
    "    'Unknown': 6\n",
    "}"
   ]
  },
  {
   "cell_type": "code",
   "execution_count": 70,
   "id": "643e7bb3-acb1-4a09-9c87-e28014b6da73",
   "metadata": {},
   "outputs": [],
   "source": [
    "def load_json(path: str) -> dict:\n",
    "    with open(path, 'r') as file:\n",
    "        return json.load(file)\n",
    "\n",
    "def parse_time(time: str) -> datetime:\n",
    "    return datetime.strptime(time, '%Y-%m-%d %H:%M:%S')\n",
    "\n",
    "def to_min(cur_time: datetime, start_time: datetime) -> int:\n",
    "    return int((cur_time - start_time).total_seconds()//60)\n",
    "\n",
    "def process_sleep_data(sleep_data: dict) -> dict:\n",
    "    stages_by_day = defaultdict(dict)\n",
    "\n",
    "    for data in sleep_data:\n",
    "        if data['stage'] in ['Awake', 'REM', 'Core', 'Deep']:\n",
    "            start_time = parse_time(data['start_time'])\n",
    "            end_time = parse_time(data['end_time'])\n",
    "            day = end_time.strftime('%Y-%m-%d')\n",
    "\n",
    "            if not day in stages_by_day:\n",
    "                stages_by_day[day]['stages'] = list()\n",
    "                \n",
    "            stages_by_day[day]['stages'].append({\n",
    "                'start_time': start_time,\n",
    "                'end_time': end_time,\n",
    "                'stage': STAGE[data['stage']]\n",
    "            })\n",
    "\n",
    "    for date, data in stages_by_day.items():\n",
    "        stages_by_day[date]['stages'] = sorted(data['stages'], key=lambda x: x['start_time'])\n",
    "        stages_by_day[date]['start_time'] = stages_by_day[date]['stages'][0]['start_time']\n",
    "        stages_by_day[date]['end_time'] = stages_by_day[date]['stages'][-1]['end_time']\n",
    "        stages_by_day[date]['day_of_week'] = stages_by_day[date]['start_time'].weekday()\n",
    "\n",
    "    return stages_by_day\n",
    "\n",
    "def post_process(stage_data: dict) -> pd.DataFrame:\n",
    "    ml_data = list()\n",
    "    for date, data in stage_data.items():\n",
    "        for item in data['stages']:\n",
    "\n",
    "            start_time = to_min(item['start_time'], data['start_time'])\n",
    "            end_time = to_min(item['end_time'], data['start_time'])\n",
    "            \n",
    "            \n",
    "            for interval in range(start_time, end_time):\n",
    "                \n",
    "                time_of_day = (data['start_time'] + timedelta(minutes=interval)).time()\n",
    "                time_in_min = time_of_day.hour*60 + time_of_day.minute\n",
    "                \n",
    "                ml_data.append((\n",
    "                    date,\n",
    "                    time_in_min,\n",
    "                    data['day_of_week'],\n",
    "                    interval,\n",
    "                    item['stage']\n",
    "                ))\n",
    "    return pd.DataFrame(ml_data, columns=['date', 'start_time', 'day_of_week', 'interval', 'stage'])"
   ]
  },
  {
   "cell_type": "code",
   "execution_count": 71,
   "id": "67a4d527-6c28-48b1-8951-97c9258493d6",
   "metadata": {},
   "outputs": [],
   "source": [
    "data = load_json('./sleepData.json')['sleep_data']\n",
    "\n",
    "stage_data = process_sleep_data(data)\n",
    "ml_data = post_process(stage_data)"
   ]
  },
  {
   "cell_type": "code",
   "execution_count": 72,
   "id": "92b4499c",
   "metadata": {},
   "outputs": [
    {
     "name": "stdout",
     "output_type": "stream",
     "text": [
      "         date  start_time  day_of_week  interval  stage\n",
      "0  2024-02-20         113            1         0      4\n",
      "1  2024-02-20         114            1         1      4\n",
      "2  2024-02-20         115            1         2      4\n",
      "3  2024-02-20         116            1         3      4\n",
      "4  2024-02-20         117            1         4      4\n",
      "<class 'pandas.core.frame.DataFrame'>\n",
      "RangeIndex: 195008 entries, 0 to 195007\n",
      "Data columns (total 5 columns):\n",
      " #   Column       Non-Null Count   Dtype \n",
      "---  ------       --------------   ----- \n",
      " 0   date         195008 non-null  object\n",
      " 1   start_time   195008 non-null  int64 \n",
      " 2   day_of_week  195008 non-null  int64 \n",
      " 3   interval     195008 non-null  int64 \n",
      " 4   stage        195008 non-null  int64 \n",
      "dtypes: int64(4), object(1)\n",
      "memory usage: 7.4+ MB\n"
     ]
    }
   ],
   "source": [
    "print(ml_data.head())\n",
    "ml_data.info()"
   ]
  },
  {
   "cell_type": "code",
   "execution_count": 73,
   "id": "80d0f767-528f-450e-b38e-12c634692b62",
   "metadata": {},
   "outputs": [
    {
     "name": "stdout",
     "output_type": "stream",
     "text": [
      "[[113   0   1]\n",
      " [114   1   1]\n",
      " [115   2   1]\n",
      " ...\n",
      " [889 281   1]\n",
      " [890 282   1]\n",
      " [891 283   1]]\n",
      "[4 4 4 ... 4 4 4]\n"
     ]
    }
   ],
   "source": [
    "X = np.array(ml_data[['start_time', 'interval', 'day_of_week']].values)\n",
    "Y = np.array(ml_data['stage'].values)\n",
    "print(X)\n",
    "print(Y)\n",
    "\n",
    "X_train, X_test, Y_train, Y_test = train_test_split(X, Y, test_size=0.2, stratify=Y, random_state=42)"
   ]
  },
  {
   "cell_type": "code",
   "execution_count": 74,
   "id": "840a9b2d",
   "metadata": {},
   "outputs": [],
   "source": [
    "# # import numpy as np\n",
    "# import tensorflow as tf\n",
    "# from tensorflow.keras.models import Sequential\n",
    "# from tensorflow.keras.layers import LSTM, Dense\n",
    "\n",
    "# # Sample data\n",
    "# # X_train = np.random.rand(100, 10, 3)  # Example input data (100 samples, 10 timesteps, 3 features)\n",
    "# # Y_train = np.random.randint(0, 2, size=(100,))  # Example target labels (binary classification)\n",
    "\n",
    "# # Define the LSTM model\n",
    "# model = Sequential([\n",
    "#     LSTM(units=50, input_shape=(X_train.shape[1], X_train.shape[2])),\n",
    "#     Dense(units=1, activation='sigmoid')\n",
    "# ])\n",
    "\n",
    "# # Compile the model\n",
    "# model.compile(optimizer='adam', loss='binary_crossentropy', metrics=['accuracy'])\n",
    "\n",
    "# # Train the model\n",
    "# model.fit(X_train, Y_train, epochs=10, batch_size=32)\n"
   ]
  },
  {
   "cell_type": "code",
   "execution_count": 142,
   "id": "652763bb-6ae7-4246-93fe-68f7778a1245",
   "metadata": {},
   "outputs": [
    {
     "name": "stderr",
     "output_type": "stream",
     "text": [
      "[Parallel(n_jobs=1)]: Done  10 out of  10 | elapsed:    1.2s finished\n"
     ]
    },
    {
     "data": {
      "text/plain": [
       "RandomForestClassifier(bootstrap=True, class_weight=None, criterion='gini',\n",
       "            max_depth=None, max_features='auto', max_leaf_nodes=None,\n",
       "            min_impurity_decrease=0.0, min_impurity_split=None,\n",
       "            min_samples_leaf=1, min_samples_split=2,\n",
       "            min_weight_fraction_leaf=0.0, n_estimators=10, n_jobs=1,\n",
       "            oob_score=False, random_state=42, verbose=0.25,\n",
       "            warm_start=False)"
      ]
     },
     "execution_count": 142,
     "metadata": {},
     "output_type": "execute_result"
    }
   ],
   "source": [
    "model = RandomForestClassifier(random_state=42, verbose=0.25)\n",
    "model.fit(X_train, Y_train)"
   ]
  },
  {
   "cell_type": "code",
   "execution_count": 143,
   "id": "5d661d22-461c-4752-a5e1-e9ab7bfd7d63",
   "metadata": {},
   "outputs": [
    {
     "name": "stdout",
     "output_type": "stream",
     "text": [
      "Accuracy: 0.6385313573662889\n",
      "Classification Report:\n",
      "              precision    recall  f1-score   support\n",
      "\n",
      "          1       0.34      0.25      0.29       988\n",
      "          3       0.56      0.57      0.57     10769\n",
      "          4       0.71      0.73      0.72     21835\n",
      "          5       0.54      0.47      0.50      5410\n",
      "\n",
      "avg / total       0.63      0.64      0.64     39002\n",
      "\n"
     ]
    },
    {
     "name": "stderr",
     "output_type": "stream",
     "text": [
      "[Parallel(n_jobs=1)]: Done  10 out of  10 | elapsed:    0.1s finished\n"
     ]
    }
   ],
   "source": [
    "# Predict on the test set\n",
    "Y_pred = model.predict(X_test)\n",
    "\n",
    "# Evaluate the model\n",
    "print(\"Accuracy:\", accuracy_score(Y_test, Y_pred))\n",
    "print(\"Classification Report:\\n\", classification_report(Y_test, Y_pred))"
   ]
  },
  {
   "cell_type": "code",
   "execution_count": 201,
   "id": "ec8ec804",
   "metadata": {},
   "outputs": [
    {
     "name": "stdout",
     "output_type": "stream",
     "text": [
      "174\n"
     ]
    },
    {
     "name": "stderr",
     "output_type": "stream",
     "text": [
      "[Parallel(n_jobs=1)]: Done  10 out of  10 | elapsed:    0.0s finished\n"
     ]
    },
    {
     "data": {
      "text/plain": [
       "[<matplotlib.lines.Line2D at 0x7f8738fc37b8>]"
      ]
     },
     "execution_count": 201,
     "metadata": {},
     "output_type": "execute_result"
    },
    {
     "data": {
      "image/png": "[encoded data removed]",
      "text/plain": [
       "<Figure size 432x288 with 1 Axes>"
      ]
     },
     "metadata": {
      "needs_background": "light"
     },
     "output_type": "display_data"
    }
   ],
   "source": [
    "import random\n",
    "dow = 2\n",
    "r = random.randint(0, 500)\n",
    "# r = 100\n",
    "print(r)\n",
    "X_sample = [[i+r,i+r, dow] for i in range(11*60)]\n",
    "Y_sample = model.predict(X_sample)\n",
    "# print(Y_sample)\n",
    "\n",
    "[f'{x[0]/60}:{x[0]%60}'  for x in X_sample]\n",
    "\n",
    "# print(pd.Series(Y_sample).value_counts())\n",
    "plt.plot([x[0]  for x in X_sample]\n",
    ", Y_sample)"
   ]
  },
  {
   "cell_type": "raw",
   "id": "72301a08",
   "metadata": {},
   "source": [
    "with open('SleepStageRandomForest.pkl', 'wb') as file:\n",
    "    pickle.dump(model, file)"
   ]
  },
  {
   "cell_type": "code",
   "execution_count": 202,
   "id": "96d38a83-7f04-41da-b093-1c64b8d9e9a6",
   "metadata": {},
   "outputs": [],
   "source": [
    "# Convert the model\n",
    "coreml_model = ct.converters.sklearn.convert(model, input_features=['start_time', 'interval', 'day_of_week'], output_feature_names='sleep_stage')\n",
    "\n",
    "# Save the model\n",
    "coreml_model.save(\"SleepStageRandomForest.mlmodel\")\n",
    "# coreml_model.save(\"SleepStageRandomForest.mlpackage\")\n",
    "\n",
    "# Loading the model\n",
    "# with open('my_random_forest_model.pkl', 'rb') as file:\n",
    "#     best_model_loaded = pickle.load(file)"
   ]
  },
  {
   "cell_type": "code",
   "execution_count": null,
   "id": "4cf6e61d",
   "metadata": {},
   "outputs": [],
   "source": []
  }
 ],
 "metadata": {
  "kernelspec": {
   "display_name": "Python 3",
   "language": "python",
   "name": "python3"
  },
  "language_info": {
   "codemirror_mode": {
    "name": "ipython",
    "version": 3
   },
   "file_extension": ".py",
   "mimetype": "text/x-python",
   "name": "python",
   "nbconvert_exporter": "python",
   "pygments_lexer": "ipython3",
   "version": "3.6.13"
  }
 },
 "nbformat": 4,
 "nbformat_minor": 5
}
