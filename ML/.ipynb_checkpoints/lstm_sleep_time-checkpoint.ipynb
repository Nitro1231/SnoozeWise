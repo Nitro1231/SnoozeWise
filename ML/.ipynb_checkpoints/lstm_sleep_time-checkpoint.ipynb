{
 "cells": [
  {
   "cell_type": "code",
   "execution_count": 1,
   "id": "e4274587-a732-4ab7-b06e-50ca6c547a72",
   "metadata": {},
   "outputs": [],
   "source": [
    "# ! pip install imbalanced-learn\n",
    "# ! pip install --force-reinstall 'scikit-learn==0.19.2' \n",
    "# ! pip install pickle-mixin\n",
    "# ! pip install --force-reinstall 'scikit-learn==0.19.2' "
   ]
  },
  {
   "cell_type": "code",
   "execution_count": 2,
   "id": "1b65b8e5-c1bd-4adc-b798-be6e527e65bc",
   "metadata": {},
   "outputs": [
    {
     "name": "stderr",
     "output_type": "stream",
     "text": [
      "WARNING:root:TensorFlow version 2.6.2 detected. Last version known to be fully compatible is 2.3.1 .\n",
      "WARNING:root:Keras version 2.6.0 detected. Last version known to be fully compatible of Keras is 2.2.4 .\n",
      "/Users/rohangupta/anaconda3/envs/myenv/lib/python3.6/site-packages/sklearn/ensemble/weight_boosting.py:29: DeprecationWarning: numpy.core.umath_tests is an internal NumPy module and should not be imported. It will be removed in a future NumPy release.\n",
      "  from numpy.core.umath_tests import inner1d\n"
     ]
    }
   ],
   "source": [
    "import math\n",
    "import json\n",
    "import pickle\n",
    "import numpy as np\n",
    "import pandas as pd\n",
    "import coremltools as ct\n",
    "import matplotlib.pyplot as plt\n",
    "from datetime import datetime, timedelta\n",
    "from collections import defaultdict\n",
    "\n",
    "from sklearn.tree import _tree\n",
    "from sklearn.ensemble import RandomForestClassifier\n",
    "from sklearn.metrics import classification_report, accuracy_score\n",
    "from sklearn.model_selection import train_test_split\n",
    "\n",
    "import tensorflow as tf\n",
    "import random as r\n",
    "from tensorflow.keras.callbacks import EarlyStopping, ReduceLROnPlateau\n",
    "from tensorflow.keras.models import Sequential\n",
    "from tensorflow.keras.layers import LSTM, Dense, BatchNormalization, Dropout, Reshape, Activation\n",
    "from tensorflow.keras.optimizers import RMSprop"
   ]
  },
  {
   "cell_type": "code",
   "execution_count": 3,
   "id": "8def0a8c-fcd1-4b86-a8b7-645a6bf7f00e",
   "metadata": {},
   "outputs": [],
   "source": [
    "STAGE = {\n",
    "    'Core': 0,\n",
    "    'REM': 1,\n",
    "    'Awake': 2,\n",
    "    'Deep': 3,\n",
    "}"
   ]
  },
  {
   "cell_type": "code",
   "execution_count": 4,
   "id": "643e7bb3-acb1-4a09-9c87-e28014b6da73",
   "metadata": {},
   "outputs": [],
   "source": [
    "def load_json(path: str) -> dict:\n",
    "    with open(path, 'r') as file:\n",
    "        return json.load(file)\n",
    "\n",
    "def parse_time(time: str) -> datetime:\n",
    "    return datetime.strptime(time, '%Y-%m-%d %H:%M:%S')\n",
    "\n",
    "def to_min(cur_time: datetime, start_time: datetime) -> int:\n",
    "    return int((cur_time - start_time).total_seconds()//60)\n",
    "\n",
    "def process_sleep_data(sleep_data: dict) -> dict:\n",
    "    stages_by_day = defaultdict(dict)\n",
    "\n",
    "    for data in sleep_data:\n",
    "        if data['stage'] in ['Awake', 'REM', 'Core', 'Deep']:\n",
    "            start_time = parse_time(data['start_time'])\n",
    "            end_time = parse_time(data['end_time'])\n",
    "            day = end_time.strftime('%Y-%m-%d')\n",
    "\n",
    "            if not day in stages_by_day:\n",
    "                stages_by_day[day]['stages'] = list()\n",
    "                \n",
    "            stages_by_day[day]['stages'].append({\n",
    "                'start_time': start_time,\n",
    "                'end_time': end_time,\n",
    "                'stage': STAGE[data['stage']]\n",
    "            })\n",
    "\n",
    "    for date, data in stages_by_day.items():\n",
    "        stages_by_day[date]['stages'] = sorted(data['stages'], key=lambda x: x['start_time'])\n",
    "        stages_by_day[date]['start_time'] = stages_by_day[date]['stages'][0]['start_time']\n",
    "        stages_by_day[date]['end_time'] = stages_by_day[date]['stages'][-1]['end_time']\n",
    "        stages_by_day[date]['day_of_week'] = stages_by_day[date]['start_time'].weekday()\n",
    "\n",
    "    return stages_by_day\n",
    "\n",
    "def post_process(stage_data: dict) -> pd.DataFrame:\n",
    "    ml_data = list()\n",
    "    for date, data in stage_data.items():\n",
    "        \n",
    "#         day_end_time = data['end_time'].time()\n",
    "#         day_end_time_in_min = day_end_time.hour*60 + day_end_time.minute\n",
    "        \n",
    "        stime = data['start_time'].time()\n",
    "        stime_min = stime.hour*60 + stime.minute\n",
    "        etime = data['end_time'].time()\n",
    "        etime_min = etime.hour*60 + etime.minute\n",
    "        \n",
    "        stages = []\n",
    "        for item in data['stages']:\n",
    "\n",
    "            duration_minutes = to_min(item['end_time'], item['start_time'])\n",
    "            \n",
    "            \n",
    "            stage = item['stage']\n",
    "            stages_iterval = [stage] * duration_minutes\n",
    "            \n",
    "            stages.extend(stages_iterval)\n",
    "                \n",
    "        desired_length = 720        \n",
    "        stages = stages + [0]*(max(0,desired_length - len(stages)))\n",
    "        \n",
    "        ml_data.append((\n",
    "            stime_min,\n",
    "            etime_min,\n",
    "            data['day_of_week'],\n",
    "            stages[:desired_length]\n",
    "        ))\n",
    "    return pd.DataFrame(ml_data, columns=['start_time', 'end_time', 'day_of_week','stages'])"
   ]
  },
  {
   "cell_type": "code",
   "execution_count": 5,
   "id": "67a4d527-6c28-48b1-8951-97c9258493d6",
   "metadata": {},
   "outputs": [],
   "source": [
    "data = load_json('./sleepData.json')['sleep_data']\n",
    "\n",
    "stage_data = process_sleep_data(data)\n",
    "ml_data = post_process(stage_data)"
   ]
  },
  {
   "cell_type": "code",
   "execution_count": 6,
   "id": "92b4499c",
   "metadata": {},
   "outputs": [
    {
     "name": "stdout",
     "output_type": "stream",
     "text": [
      "   start_time  end_time  day_of_week  \\\n",
      "0         113       649            1   \n",
      "1         144       740            0   \n",
      "2         120       612            6   \n",
      "3         225       495            5   \n",
      "4          95       548            4   \n",
      "\n",
      "                                              stages  duration  \n",
      "0  [0, 0, 0, 0, 0, 0, 0, 0, 0, 0, 0, 0, 0, 0, 3, ...       536  \n",
      "1  [0, 0, 0, 0, 0, 0, 0, 0, 0, 0, 0, 0, 0, 0, 3, ...       596  \n",
      "2  [0, 0, 0, 0, 2, 0, 0, 0, 0, 0, 0, 0, 0, 0, 0, ...       492  \n",
      "3  [0, 0, 0, 0, 0, 0, 0, 0, 0, 0, 0, 0, 0, 0, 0, ...       270  \n",
      "4  [0, 0, 0, 0, 0, 0, 0, 0, 0, 0, 0, 0, 0, 0, 3, ...       453  \n",
      "<class 'pandas.core.frame.DataFrame'>\n",
      "RangeIndex: 437 entries, 0 to 436\n",
      "Data columns (total 5 columns):\n",
      " #   Column       Non-Null Count  Dtype \n",
      "---  ------       --------------  ----- \n",
      " 0   start_time   437 non-null    int64 \n",
      " 1   end_time     437 non-null    int64 \n",
      " 2   day_of_week  437 non-null    int64 \n",
      " 3   stages       437 non-null    object\n",
      " 4   duration     437 non-null    int64 \n",
      "dtypes: int64(4), object(1)\n",
      "memory usage: 17.2+ KB\n"
     ]
    }
   ],
   "source": [
    "ml_data['duration'] = ml_data['end_time'] - ml_data['start_time']\n",
    "print(ml_data.head())\n",
    "ml_data.info()"
   ]
  },
  {
   "cell_type": "code",
   "execution_count": 7,
   "id": "80d0f767-528f-450e-b38e-12c634692b62",
   "metadata": {},
   "outputs": [
    {
     "data": {
      "text/plain": [
       "start_time                                                   113\n",
       "end_time                                                     649\n",
       "day_of_week                                                    1\n",
       "stages         [0, 0, 0, 0, 0, 0, 0, 0, 0, 0, 0, 0, 0, 0, 3, ...\n",
       "duration                                                     536\n",
       "Name: 0, dtype: object"
      ]
     },
     "execution_count": 7,
     "metadata": {},
     "output_type": "execute_result"
    }
   ],
   "source": [
    "# X = np.array(ml_data[['start_time', 'interval', 'day_of_week']].values)\n",
    "# Y = np.array(ml_data['stage'].values)\n",
    "\n",
    "# X_train, X_test, Y_train, Y_test = train_test_split(X, Y, test_size=0.2, stratify=Y, random_state=42)\n",
    "ml_data.iloc[0]"
   ]
  },
  {
   "cell_type": "code",
   "execution_count": 8,
   "id": "840a9b2d",
   "metadata": {},
   "outputs": [
    {
     "name": "stdout",
     "output_type": "stream",
     "text": [
      "(437, 3) (349, 3, 1) (88, 3, 1) (349, 720) (88, 720)\n"
     ]
    },
    {
     "name": "stderr",
     "output_type": "stream",
     "text": [
      "/Users/rohangupta/anaconda3/envs/myenv/lib/python3.6/site-packages/keras/optimizer_v2/optimizer_v2.py:356: UserWarning: The `lr` argument is deprecated, use `learning_rate` instead.\n",
      "  \"The `lr` argument is deprecated, use `learning_rate` instead.\")\n"
     ]
    },
    {
     "name": "stdout",
     "output_type": "stream",
     "text": [
      "Epoch 1/10\n",
      "5/5 [==============================] - 4s 291ms/step - loss: 1.3857 - accuracy: 0.6027 - val_loss: 1.3857 - val_accuracy: 0.7604\n",
      "Epoch 2/10\n",
      "5/5 [==============================] - 1s 132ms/step - loss: 1.3853 - accuracy: 0.7321 - val_loss: 1.3855 - val_accuracy: 0.7620\n",
      "Epoch 3/10\n",
      "5/5 [==============================] - 1s 131ms/step - loss: 1.3853 - accuracy: 0.7307 - val_loss: 1.3855 - val_accuracy: 0.7613\n",
      "Epoch 4/10\n",
      "5/5 [==============================] - 1s 130ms/step - loss: 1.3853 - accuracy: 0.7320 - val_loss: 1.3854 - val_accuracy: 0.7620\n",
      "Epoch 5/10\n",
      "5/5 [==============================] - 1s 131ms/step - loss: 1.3853 - accuracy: 0.7302 - val_loss: 1.3854 - val_accuracy: 0.7632\n",
      "Epoch 6/10\n",
      "5/5 [==============================] - 1s 132ms/step - loss: 1.3853 - accuracy: 0.7314 - val_loss: 1.3854 - val_accuracy: 0.7639\n",
      "Epoch 7/10\n",
      "5/5 [==============================] - 1s 131ms/step - loss: 1.3853 - accuracy: 0.7311 - val_loss: 1.3854 - val_accuracy: 0.7637\n",
      "Epoch 8/10\n",
      "5/5 [==============================] - 1s 132ms/step - loss: 1.3853 - accuracy: 0.7330 - val_loss: 1.3854 - val_accuracy: 0.7642\n",
      "Epoch 9/10\n",
      "5/5 [==============================] - 1s 152ms/step - loss: 1.3853 - accuracy: 0.7323 - val_loss: 1.3854 - val_accuracy: 0.7635\n",
      "Epoch 10/10\n",
      "5/5 [==============================] - 1s 152ms/step - loss: 1.3853 - accuracy: 0.7330 - val_loss: 1.3854 - val_accuracy: 0.7632\n"
     ]
    }
   ],
   "source": [
    "X = ml_data[['start_time', 'end_time', 'day_of_week']].values.astype('int32')\n",
    "Y = np.vstack(ml_data['stages'].values).astype('int32')\n",
    "\n",
    "X_train, X_test, Y_train, Y_test = train_test_split(X, Y, test_size=0.2, random_state=42)\n",
    "\n",
    "X_train = np.reshape(X_train, (X_train.shape[0], X_train.shape[1], 1))\n",
    "X_test = np.reshape(X_test, (X_test.shape[0], X_test.shape[1], 1))\n",
    "\n",
    "print(X.shape, X_train.shape, X_test.shape, Y_train.shape, Y_test.shape)\n",
    "\n",
    "model = Sequential([\n",
    "    LSTM(1024, return_sequences=True, input_shape=(X_train.shape[1], X_train.shape[2])),\n",
    "    BatchNormalization(),\n",
    "    Dropout(0.3),\n",
    "    LSTM(512, return_sequences=False),\n",
    "    BatchNormalization(),\n",
    "    Dropout(0.3),\n",
    "    Dense(512, activation='relu'),  # Reduced number of units in dense layer\n",
    "    Dropout(0.4),\n",
    "    Dense(720*4, activation='softmax'),\n",
    "    Reshape((720, 4)),\n",
    "    Activation('softmax')\n",
    "])\n",
    "\n",
    "model.compile(optimizer=RMSprop(learning_rate=0.005), loss='sparse_categorical_crossentropy', metrics=['accuracy'])\n",
    "\n",
    "early_stopping = EarlyStopping(monitor='val_loss', patience=6, restore_best_weights=True)\n",
    "reduce_lr = ReduceLROnPlateau(monitor='val_loss', factor=0.2, patience=6, min_lr=1e-6)\n",
    "\n",
    "history = model.fit(X_train, Y_train, epochs=10, batch_size=64, validation_split=0.2, callbacks=[early_stopping, reduce_lr])"
   ]
  },
  {
   "cell_type": "code",
   "execution_count": 9,
   "id": "5d661d22-461c-4752-a5e1-e9ab7bfd7d63",
   "metadata": {},
   "outputs": [
    {
     "name": "stdout",
     "output_type": "stream",
     "text": [
      "3/3 [==============================] - 0s 21ms/step - loss: 1.3854 - accuracy: 0.7509\n",
      "Test Loss: [1.385420560836792, 0.7509154081344604]\n"
     ]
    },
    {
     "data": {
      "text/plain": [
       "(88, 720, 4)"
      ]
     },
     "execution_count": 9,
     "metadata": {},
     "output_type": "execute_result"
    }
   ],
   "source": [
    "loss = model.evaluate(X_test, Y_test)\n",
    "print(\"Test Loss:\", loss)\n",
    "model.predict(X_test).shape"
   ]
  },
  {
   "cell_type": "code",
   "execution_count": 10,
   "id": "589cf603",
   "metadata": {},
   "outputs": [
    {
     "name": "stdout",
     "output_type": "stream",
     "text": [
      "start_time                                                   194\n",
      "end_time                                                     558\n",
      "day_of_week                                                    2\n",
      "stages         [0, 0, 0, 0, 0, 0, 0, 0, 0, 0, 0, 0, 0, 0, 0, ...\n",
      "duration                                                     364\n",
      "Name: 290, dtype: object\n",
      "[[0.2500691  0.24997863 0.24997608 0.24997623]\n",
      " [0.25004536 0.2499835  0.24998783 0.24998322]\n",
      " [0.25016028 0.24994521 0.24994767 0.24994679]\n",
      " ...\n",
      " [0.2550005  0.2483345  0.24833354 0.2483315 ]\n",
      " [0.25512373 0.24829252 0.24829261 0.24829115]\n",
      " [0.2500574  0.24998048 0.24998021 0.24998192]]\n",
      "1900-01-01 03:14:00 1900-01-01 09:18:00\n"
     ]
    },
    {
     "data": {
      "image/png": "[encoded data removed]",
      "text/plain": [
       "<Figure size 720x432 with 1 Axes>"
      ]
     },
     "metadata": {
      "needs_background": "light"
     },
     "output_type": "display_data"
    }
   ],
   "source": [
    "import datetime\n",
    "\n",
    "# idx = r.randint(0, X_test.shape[0] - 1)\n",
    "\n",
    "idx = 10\n",
    "predictions = model.predict(X_test)[idx]\n",
    "t = ml_data[ (ml_data['start_time'] == int(X_test[idx][0][0])) & (ml_data['end_time'] == int(X_test[idx][1][0]))].iloc[0]\n",
    "print(t)\n",
    "print(predictions)\n",
    "\n",
    "# print(X_test[idx])\n",
    "\n",
    "start_time = datetime.datetime.strptime('00:00', '%H:%M')\n",
    "print(start_time + datetime.timedelta(minutes=int(t['start_time'])), start_time + datetime.timedelta(minutes=int(t['end_time'])))\n",
    "ST = int(t['start_time'])\n",
    "\n",
    "x = []\n",
    "y = []\n",
    "# duration_size = int(t['end_time'] - t['start_time'])\n",
    "for i in range(t['duration']):\n",
    "    start_date = start_time + datetime.timedelta(minutes=ST + i)\n",
    "#     print(predictions[i])\n",
    "    stage = tf.argmax(predictions[i])\n",
    "    x.append(start_date)\n",
    "    y.append(stage)\n",
    "\n",
    "# Plotting\n",
    "plt.figure(figsize=(10, 6))\n",
    "plt.plot(x, y, marker='o', linestyle='-', label='predicted')\n",
    "plt.plot(x, t['stages'][:t['duration']], marker='s', linestyle='--', color='r', label='true')\n",
    "plt.xlabel('Date')\n",
    "plt.ylabel('Stage')\n",
    "plt.title('Predicted Stages over Time')\n",
    "plt.grid(True)\n",
    "plt.xticks(rotation=45)\n",
    "plt.tight_layout()\n",
    "plt.legend()\n",
    "plt.show()"
   ]
  },
  {
   "cell_type": "code",
   "execution_count": 11,
   "id": "d0ab91cb",
   "metadata": {},
   "outputs": [],
   "source": [
    "# coreml_model = ct.convert(\n",
    "#     model,\n",
    "#     inputs = [ct.TensorType(name=\"lstm_10_input\", shape=(1,3,1))]\n",
    "# )\n",
    "# coreml_model.save(\"LSTMSleepStage.mlmodel\")"
   ]
  },
  {
   "cell_type": "code",
   "execution_count": 12,
   "id": "4cf6e61d",
   "metadata": {},
   "outputs": [],
   "source": [
    "# model.save('LSTMSleepStageModel')"
   ]
  },
  {
   "cell_type": "code",
   "execution_count": null,
   "id": "154bce7c",
   "metadata": {},
   "outputs": [],
   "source": []
  }
 ],
 "metadata": {
  "kernelspec": {
   "display_name": "Python 3",
   "language": "python",
   "name": "python3"
  },
  "language_info": {
   "codemirror_mode": {
    "name": "ipython",
    "version": 3
   },
   "file_extension": ".py",
   "mimetype": "text/x-python",
   "name": "python",
   "nbconvert_exporter": "python",
   "pygments_lexer": "ipython3",
   "version": "3.6.13"
  }
 },
 "nbformat": 4,
 "nbformat_minor": 5
}
