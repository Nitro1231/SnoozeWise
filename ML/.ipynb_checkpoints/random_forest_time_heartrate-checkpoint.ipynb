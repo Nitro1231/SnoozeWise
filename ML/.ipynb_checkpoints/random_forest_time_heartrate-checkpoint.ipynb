{
 "cells": [
  {
   "cell_type": "code",
   "execution_count": 1,
   "id": "e4274587-a732-4ab7-b06e-50ca6c547a72",
   "metadata": {},
   "outputs": [],
   "source": [
    "# ! pip install imbalanced-learn\n",
    "# ! pip install --force-reinstall 'scikit-learn==0.19.2' \n",
    "# ! pip install pickle-mixin\n",
    "# ! pip install --force-reinstall 'scikit-learn==0.19.2' "
   ]
  },
  {
   "cell_type": "code",
   "execution_count": 2,
   "id": "1b65b8e5-c1bd-4adc-b798-be6e527e65bc",
   "metadata": {},
   "outputs": [
    {
     "name": "stderr",
     "output_type": "stream",
     "text": [
      "WARNING:root:TensorFlow version 2.6.2 detected. Last version known to be fully compatible is 2.3.1 .\n",
      "WARNING:root:Keras version 2.6.0 detected. Last version known to be fully compatible of Keras is 2.2.4 .\n"
     ]
    }
   ],
   "source": [
    "import math\n",
    "import json\n",
    "import pickle\n",
    "import numpy as np\n",
    "import pandas as pd\n",
    "import coremltools as ct\n",
    "import matplotlib.pyplot as plt\n",
    "from datetime import datetime, timedelta\n",
    "from collections import defaultdict\n",
    "\n",
    "import tensorflow as tf\n",
    "from sklearn.model_selection import train_test_split\n",
    "from tensorflow.keras.callbacks import EarlyStopping, ReduceLROnPlateau\n",
    "\n",
    "import matplotlib.pyplot as plt"
   ]
  },
  {
   "cell_type": "code",
   "execution_count": 3,
   "id": "8def0a8c-fcd1-4b86-a8b7-645a6bf7f00e",
   "metadata": {},
   "outputs": [],
   "source": [
    "STAGE = {\n",
    "    'In Bed': 0,\n",
    "    'Awake': 1,\n",
    "    'Asleep': 2,\n",
    "    'REM': 3,\n",
    "    'Core': 4,\n",
    "    'Deep': 5,\n",
    "    'Unknown': 6\n",
    "}"
   ]
  },
  {
   "cell_type": "code",
   "execution_count": 4,
   "id": "643e7bb3-acb1-4a09-9c87-e28014b6da73",
   "metadata": {},
   "outputs": [],
   "source": [
    "def load_json(path: str) -> dict:\n",
    "    with open(path, 'r') as file:\n",
    "        return json.load(file)\n",
    "\n",
    "def parse_time(time: str) -> datetime:\n",
    "    return datetime.strptime(time, '%Y-%m-%d %H:%M:%S')\n",
    "\n",
    "def to_min(cur_time: datetime, start_time: datetime) -> int:\n",
    "    return int((cur_time - start_time).total_seconds()//60)\n",
    "\n",
    "def process_sleep_data(sleep_data: dict) -> dict:\n",
    "    stages_by_day = defaultdict(dict)\n",
    "\n",
    "    for data in sleep_data:\n",
    "        if data['stage'] in ['Awake', 'REM', 'Core', 'Deep']:\n",
    "            start_time = parse_time(data['start_time'])\n",
    "            end_time = parse_time(data['end_time'])\n",
    "            day = end_time.strftime('%Y-%m-%d')\n",
    "\n",
    "            if not day in stages_by_day:\n",
    "                stages_by_day[day]['stages'] = list()\n",
    "                \n",
    "            stages_by_day[day]['stages'].append({\n",
    "                'start_time': start_time,\n",
    "                'end_time': end_time,\n",
    "                'stage': STAGE[data['stage']]\n",
    "            })\n",
    "\n",
    "    for date, data in stages_by_day.items():\n",
    "        stages_by_day[date]['stages'] = sorted(data['stages'], key=lambda x: x['start_time'])\n",
    "        stages_by_day[date]['start_time'] = stages_by_day[date]['stages'][0]['start_time']\n",
    "        stages_by_day[date]['end_time'] = stages_by_day[date]['stages'][-1]['end_time']\n",
    "        stages_by_day[date]['day_of_week'] = stages_by_day[date]['start_time'].weekday()\n",
    "\n",
    "    return stages_by_day\n",
    "\n",
    "def process_heart_rate_data(heart_rate_data: dict, stage_data: dict)  -> dict:\n",
    "    for data in heart_rate_data:\n",
    "        start_time = parse_time(data['startDate'])\n",
    "        end_time = parse_time(data['endDate'])\n",
    "        day = end_time.strftime('%Y-%m-%d')\n",
    "        \n",
    "        if day in stage_data and (stage_data[day]['start_time'] <= start_time and end_time <= stage_data[day]['end_time']):\n",
    "            if 'heart_rate_intervals' not in stage_data[day]:\n",
    "                stage_data[day]['heart_rate_intervals'] = []\n",
    "            stage_data[day]['heart_rate_intervals'].append({\n",
    "                'start_time': start_time,\n",
    "                'end_time': end_time,\n",
    "                'bpm': data['bpm']\n",
    "            })\n",
    "\n",
    "    for data in stage_data.values():\n",
    "        if 'heart_rate_intervals' not in data:\n",
    "            data['heart_rate_intervals'] = []\n",
    "            \n",
    "        data['heart_rate_intervals'] = sorted(data['heart_rate_intervals'], key=lambda x: x['start_time'])\n",
    "    \n",
    "    return stage_data\n",
    "\n",
    "def post_process(stage_data: dict) -> pd.DataFrame:\n",
    "    def find_closest_heart_rate(heart_rate_intervals, timestamp):\n",
    "        closest_hr = None\n",
    "        min_difference = float('inf')\n",
    "\n",
    "        for hr in heart_rate_intervals:\n",
    "            start, end, heart_rate = hr['start_time'], hr['end_time'], hr['bpm']\n",
    "            \n",
    "            if start <= timestamp <= end:\n",
    "                return heart_rate\n",
    "            \n",
    "            difference = min(abs(start - timestamp), abs(end - timestamp))\n",
    "            if difference.seconds < min_difference:\n",
    "                min_difference = difference.seconds\n",
    "                closest_hr = heart_rate\n",
    "\n",
    "        return closest_hr\n",
    "\n",
    "    ml_data = list()\n",
    "    for date, data in stage_data.items():\n",
    "       \n",
    "        # sorted ascending\n",
    "        for interval,item in enumerate(data['stages']):\n",
    "            \n",
    "            heart_rate_intervals = [d for d in data['heart_rate_intervals'] if (item['start_time'] <= d['start_time'] and d['end_time'] <= item['end_time'])]\n",
    "            if len(heart_rate_intervals) == 0:\n",
    "                continue\n",
    "                \n",
    "            timeline = []\n",
    "            current_time = item['start_time']\n",
    "            while current_time < item['end_time']:\n",
    "#                 print(type(current_time))\n",
    "                heart_rate = find_closest_heart_rate(heart_rate_intervals, current_time)\n",
    "                timeline.append(heart_rate)\n",
    "#                 if type(timeline[-1]) != int:\n",
    "#                     print(timeline[-1], len(heart_rate_intervals))\n",
    "                current_time += timedelta(minutes=1)\n",
    "        \n",
    "        \n",
    "#             temp = []\n",
    "#             for hr in heart_rate_intervals:\n",
    "#                 stime = hr['start_time'].time()\n",
    "#                 stime_in_min = stime.hour*60 + stime.minute\n",
    "#                 etime = hr['end_time'].time()\n",
    "#                 etime_in_min = etime.hour*60 + etime.minute\n",
    "#                 stime = hr['start_time'] - heart_rate_intervals[0]['start_time']\n",
    "#                 stime_in_min = stime.seconds//60\n",
    "#                 etime = hr['end_time'] - heart_rate_intervals[0]['start_time']\n",
    "#                 etime_in_min = etime.seconds//60\n",
    "\n",
    "\n",
    "#             temp.append((stime_in_min, etime_in_min, hr['bpm']))\n",
    "#             heart_rate_intervals = temp\n",
    "            \n",
    "            stime = item['start_time'].time()\n",
    "            stime_in_min = stime.hour*60 + stime.minute\n",
    "            etime = item['end_time'].time()\n",
    "            etime_in_min = etime.hour*60 + etime.minute\n",
    "            \n",
    "#             print(len(ml_data), item['start_time'].time(), item['end_time'].time())\n",
    "#             516\n",
    "#             desired_size = 1548\n",
    "            desired_size = 159\n",
    "            hri = timeline + [0] * (desired_size - len(timeline))\n",
    "#             hri = [i for hr in heart_rate_intervals for i in hr]\n",
    "#             if len(ml_data) % 300 == 0:\n",
    "#                 print(hri[:50])\n",
    "            \n",
    "            if any(v != 0 for v in hri):\n",
    "                ml_data.append((\n",
    "                    stime_in_min,\n",
    "                    etime_in_min,\n",
    "                    interval,\n",
    "                    item['stage'],\n",
    "                    hri\n",
    "                ))\n",
    "    return pd.DataFrame(ml_data, columns=['start_time', 'end_time', 'time_step', 'stage', 'heart_rate_intervals'])"
   ]
  },
  {
   "cell_type": "code",
   "execution_count": 5,
   "id": "faa8d862",
   "metadata": {},
   "outputs": [],
   "source": [
    "sleep_data = load_json('./sleepData.json')['sleep_data']\n",
    "stage_data = process_sleep_data(sleep_data)"
   ]
  },
  {
   "cell_type": "code",
   "execution_count": 6,
   "id": "67a4d527-6c28-48b1-8951-97c9258493d6",
   "metadata": {},
   "outputs": [],
   "source": [
    "heart_rate_data = load_json('./filteredHeartRate.json')\n",
    "total_data = process_heart_rate_data(heart_rate_data, stage_data)"
   ]
  },
  {
   "cell_type": "code",
   "execution_count": 7,
   "id": "f34b8940",
   "metadata": {},
   "outputs": [],
   "source": [
    "ml_data = post_process(total_data)"
   ]
  },
  {
   "cell_type": "code",
   "execution_count": 8,
   "id": "92b4499c",
   "metadata": {},
   "outputs": [
    {
     "name": "stdout",
     "output_type": "stream",
     "text": [
      "   start_time  end_time  time_step  stage  \\\n",
      "0         113       127          0      4   \n",
      "1         127       145          1      5   \n",
      "2         145       157          2      4   \n",
      "3         157       167          3      5   \n",
      "4         167       172          4      4   \n",
      "\n",
      "                                heart_rate_intervals  \n",
      "0  [97, 97, 97, 97, 97, 93, 93, 107.0000000000000...  \n",
      "1  [141, 145, 152, 156, 157, 155, 156, 159, 161, ...  \n",
      "2  [164, 163, 165, 166, 167, 168, 169.00000000000...  \n",
      "3  [120, 118, 114, 153, 165, 165, 166, 158, 132, ...  \n",
      "4  [115, 116, 151, 159, 161, 0, 0, 0, 0, 0, 0, 0,...  \n",
      "<class 'pandas.core.frame.DataFrame'>\n",
      "RangeIndex: 6277 entries, 0 to 6276\n",
      "Data columns (total 5 columns):\n",
      " #   Column                Non-Null Count  Dtype \n",
      "---  ------                --------------  ----- \n",
      " 0   start_time            6277 non-null   int64 \n",
      " 1   end_time              6277 non-null   int64 \n",
      " 2   time_step             6277 non-null   int64 \n",
      " 3   stage                 6277 non-null   int64 \n",
      " 4   heart_rate_intervals  6277 non-null   object\n",
      "dtypes: int64(4), object(1)\n",
      "memory usage: 245.3+ KB\n"
     ]
    }
   ],
   "source": [
    "print(ml_data.head())\n",
    "ml_data.info()"
   ]
  },
  {
   "cell_type": "code",
   "execution_count": 9,
   "id": "a08bf926",
   "metadata": {},
   "outputs": [
    {
     "data": {
      "text/plain": [
       "start_time                                                            113\n",
       "end_time                                                              127\n",
       "time_step                                                               0\n",
       "stage                                                                   4\n",
       "heart_rate_intervals    [97, 97, 97, 97, 97, 93, 93, 107.0000000000000...\n",
       "interval_size                                                          14\n",
       "Name: 0, dtype: object"
      ]
     },
     "execution_count": 9,
     "metadata": {},
     "output_type": "execute_result"
    }
   ],
   "source": [
    "# len(max(ml_data['heart_rate_intervals'].values, key=lambda x: len(x)))\n",
    "ml_data['interval_size'] = ml_data['end_time'] - ml_data['start_time']\n",
    "# ml_data['interval_size'].max()\n",
    "# ml_data.iloc[:100]\n",
    "# type(ml_data.iloc[0]['heart_rate_intervals'][0])\n",
    "\n",
    "# print(any(ml_data[ml_data.isnull().any(axis=1)]))\n",
    "# len(ml_data[ml_data.isnull().any(axis=1)])\n",
    "\n",
    "# for i in range(1):\n",
    "#     print(ml_data.iloc[i]['interval_size'], len(ml_data.iloc[i]['heart_rate_intervals']), ml_data.iloc[i]['heart_rate_intervals'])\n",
    "\n",
    "ml_data.iloc[0]"
   ]
  },
  {
   "cell_type": "code",
   "execution_count": 10,
   "id": "c78f2a90",
   "metadata": {},
   "outputs": [
    {
     "name": "stdout",
     "output_type": "stream",
     "text": [
      "(6277, 4) (5021, 4, 1) (1256, 4, 1) (5021, 159) (1256, 159)\n",
      "Epoch 1/5\n",
      "32/32 [==============================] - 2s 20ms/step - loss: 621.2301 - val_loss: 602.9343\n",
      "Epoch 2/5\n",
      "32/32 [==============================] - 0s 5ms/step - loss: 584.3961 - val_loss: 555.3519\n",
      "Epoch 3/5\n",
      "32/32 [==============================] - 0s 6ms/step - loss: 539.8529 - val_loss: 516.8530\n",
      "Epoch 4/5\n",
      "32/32 [==============================] - 0s 5ms/step - loss: 505.9575 - val_loss: 486.8866\n",
      "Epoch 5/5\n",
      "32/32 [==============================] - 0s 6ms/step - loss: 478.9792 - val_loss: 462.5925\n",
      "40/40 [==============================] - 0s 1ms/step - loss: 465.1234\n",
      "Test Loss: 465.1234436035156\n"
     ]
    }
   ],
   "source": [
    "X = ml_data[['start_time', 'end_time', 'time_step', 'stage']].values.astype('float32')\n",
    "Y = np.vstack(ml_data['heart_rate_intervals'].values).astype('float32')\n",
    "\n",
    "# Split data into train and test sets\n",
    "X_train, X_test, Y_train, Y_test = train_test_split(X, Y, test_size=0.2, random_state=42)\n",
    "\n",
    "# reshape X data into 3 tuples\n",
    "X_train = X_train.reshape(X_train.shape[0], X_train.shape[1], 1)\n",
    "X_test = X_test.reshape(X_test.shape[0], X_test.shape[1], 1)\n",
    "\n",
    "print(X.shape, X_train.shape, X_test.shape, Y_train.shape, Y_test.shape)\n",
    "\n",
    "# Define the LSTM model\n",
    "model = tf.keras.Sequential([\n",
    "    tf.keras.layers.LSTM(64, return_sequences=False, input_shape=(X.shape[1], 1)),\n",
    "    tf.keras.layers.Dense(159)\n",
    "])\n",
    "\n",
    "# Compile the model\n",
    "model.compile(optimizer='adam', loss='mse')\n",
    "\n",
    "# Train the model with early stopping\n",
    "model.fit(X_train, Y_train, epochs=5, batch_size=128, validation_split=0.2)\n",
    "\n",
    "# Evaluate the model\n",
    "loss = model.evaluate(X_test, Y_test)\n",
    "print(\"Test Loss:\", loss)"
   ]
  },
  {
   "cell_type": "code",
   "execution_count": null,
   "id": "1e93ca99",
   "metadata": {},
   "outputs": [],
   "source": []
  },
  {
   "cell_type": "code",
   "execution_count": 11,
   "id": "840a9b2d",
   "metadata": {},
   "outputs": [
    {
     "name": "stdout",
     "output_type": "stream",
     "text": [
      "(1256, 4, 1)\n"
     ]
    }
   ],
   "source": [
    "print(X_test.shape)\n",
    "# model.predict(X_test)"
   ]
  },
  {
   "cell_type": "code",
   "execution_count": 12,
   "id": "ec8ec804",
   "metadata": {},
   "outputs": [
    {
     "name": "stdout",
     "output_type": "stream",
     "text": [
      "1900-01-01 11:12:00 1900-01-01 11:23:00\n"
     ]
    },
    {
     "data": {
      "image/png": "[encoded data removed]",
      "text/plain": [
       "<Figure size 720x432 with 1 Axes>"
      ]
     },
     "metadata": {
      "needs_background": "light"
     },
     "output_type": "display_data"
    }
   ],
   "source": [
    "import datetime\n",
    "\n",
    "predictions = model.predict(X_test)[0].astype(int)\n",
    "t = ml_data[ (ml_data['start_time'] == int(X_test[0][0][0])) & (ml_data['end_time'] == int(X_test[0][1][0]))].iloc[0]\n",
    "\n",
    "start_time = datetime.datetime.strptime('00:00', '%H:%M')\n",
    "print(start_time + datetime.timedelta(minutes=int(t['start_time'])), start_time + datetime.timedelta(minutes=int(t['end_time'])))\n",
    "ST = int(t['start_time'])\n",
    "\n",
    "x = []\n",
    "y = []\n",
    "for i in range(t['interval_size']):\n",
    "    start_date = start_time + datetime.timedelta(minutes=ST + i)\n",
    "    bpm = predictions[i]\n",
    "    \n",
    "    x.append(start_date)\n",
    "    y.append(bpm)\n",
    "\n",
    "# Plotting\n",
    "plt.figure(figsize=(10, 6))\n",
    "plt.plot(x, y, marker='o', linestyle='-', label='predicted')\n",
    "plt.plot(x, t['heart_rate_intervals'][:t['interval_size']], marker='s', linestyle='--', color='r', label='true')\n",
    "plt.xlabel('Date')\n",
    "plt.ylabel('BPM')\n",
    "plt.title('Predicted Heart Rate over Time')\n",
    "plt.grid(True)\n",
    "plt.xticks(rotation=45)\n",
    "plt.tight_layout()\n",
    "plt.legend()\n",
    "plt.show()\n",
    "\n"
   ]
  },
  {
   "cell_type": "code",
   "execution_count": 13,
   "id": "082f2c31",
   "metadata": {},
   "outputs": [],
   "source": [
    "# import numpy as np\n",
    "# import matplotlib.pyplot as plt\n",
    "# import datetime\n",
    "\n",
    "# # Assuming predictions contains the predicted output from your model\n",
    "# # Each row of predictions should contain [startDate, endDate, BPM] in sequence\n",
    "\n",
    "# predictions = model.predict(X_test_reshaped)\n",
    "\n",
    "# print(predictions.shape)\n",
    "# all_start_dates = predictions[:,0::3]\n",
    "# all_end_dates = predictions[:, 1::3]\n",
    "# all_bpms = predictions[:, 2::3]\n",
    "\n",
    "# all_start_dates = [item for sublist in all_start_dates for item in sublist]\n",
    "# all_end_dates = [item for sublist in all_end_dates for item in sublist]\n",
    "# all_bpms = [item for sublist in all_bpms for item in sublist]\n",
    "\n",
    "# # print(len(all_start_dates))\n",
    "# # Convert start and end dates from minutes to datetime objects\n",
    "# start_time = datetime.datetime.strptime('00:00', '%H:%M')\n",
    "\n",
    "# # Plotting\n",
    "# plt.figure(figsize=(10, 6))\n",
    "# i = 0\n",
    "# for sd,ed,bpm in zip(all_start_dates, all_end_dates, all_bpms):\n",
    "#     if i == 20:\n",
    "#         break\n",
    "#     i += 1\n",
    "#     start_date = start_time + datetime.timedelta(minutes=int(sd))\n",
    "#     end_date = start_time + datetime.timedelta(minutes=int(ed))\n",
    "    \n",
    "#     plt.plot([start_date, end_date], [bpm, bpm], marker='o', linestyle='-')\n",
    "\n",
    "# #     plt.plot([start_date, end_date], [bpm, bpm], marker='o', linestyle='-', label=f'BPM: {bpm} (Start: {start_date}, End: {end_date})')\n",
    "\n",
    "# plt.xlabel('Date')\n",
    "# plt.ylabel('BPM')\n",
    "# plt.title('Predicted Heart Rate over Time')\n",
    "# plt.grid(True)\n",
    "# plt.xticks(rotation=45)\n",
    "# plt.tight_layout()\n",
    "# plt.show()"
   ]
  },
  {
   "cell_type": "raw",
   "id": "72301a08",
   "metadata": {},
   "source": [
    "with open('LSTMHeartRate.pkl', 'wb') as file:\n",
    "    pickle.dump(model, file)"
   ]
  },
  {
   "cell_type": "code",
   "execution_count": 17,
   "id": "d00dc8e7",
   "metadata": {},
   "outputs": [
    {
     "ename": "InvalidArgumentError",
     "evalue": "Attempting to add a duplicate function with name: while_cond_5054 where the previous and current definitions differ. Previous definition: signature {\n  name: \"while_cond_5054\"\n  input_arg {\n    name: \"while_while_loop_counter\"\n    type: DT_INT32\n  }\n  input_arg {\n    name: \"while_while_maximum_iterations\"\n    type: DT_INT32\n  }\n  input_arg {\n    name: \"while_placeholder\"\n    type: DT_INT32\n  }\n  input_arg {\n    name: \"while_placeholder_1\"\n    type: DT_VARIANT\n  }\n  input_arg {\n    name: \"while_placeholder_2\"\n    type: DT_FLOAT\n  }\n  input_arg {\n    name: \"while_placeholder_3\"\n    type: DT_FLOAT\n  }\n  input_arg {\n    name: \"while_less_strided_slice\"\n    type: DT_INT32\n  }\n  input_arg {\n    name: \"while_while_cond_5054___redundant_placeholder0\"\n    type: DT_VARIANT\n  }\n  input_arg {\n    name: \"while_while_cond_5054___redundant_placeholder1\"\n    type: DT_FLOAT\n  }\n  input_arg {\n    name: \"while_while_cond_5054___redundant_placeholder2\"\n    type: DT_FLOAT\n  }\n  input_arg {\n    name: \"while_while_cond_5054___redundant_placeholder3\"\n    type: DT_FLOAT\n  }\n  output_arg {\n    name: \"while_identity\"\n    type: DT_BOOL\n  }\n}\nnode_def {\n  name: \"while/Less\"\n  op: \"Less\"\n  input: \"while_placeholder\"\n  input: \"while_less_strided_slice\"\n  attr {\n    key: \"T\"\n    value {\n      type: DT_INT32\n    }\n  }\n}\nnode_def {\n  name: \"while/Identity\"\n  op: \"Identity\"\n  input: \"while/Less:z:0\"\n  attr {\n    key: \"T\"\n    value {\n      type: DT_BOOL\n    }\n  }\n}\nret {\n  key: \"while_identity\"\n  value: \"while/Identity:output:0\"\n}\nattr {\n  key: \"_construction_context\"\n  value {\n    s: \"kEagerRuntime\"\n  }\n}\narg_attr {\n  key: 0\n  value {\n    attr {\n      key: \"_output_shapes\"\n      value {\n        list {\n          shape {\n          }\n        }\n      }\n    }\n  }\n}\narg_attr {\n  key: 1\n  value {\n    attr {\n      key: \"_output_shapes\"\n      value {\n        list {\n          shape {\n          }\n        }\n      }\n    }\n  }\n}\narg_attr {\n  key: 2\n  value {\n    attr {\n      key: \"_output_shapes\"\n      value {\n        list {\n          shape {\n          }\n        }\n      }\n    }\n  }\n}\narg_attr {\n  key: 3\n  value {\n    attr {\n      key: \"_output_shapes\"\n      value {\n        list {\n          shape {\n          }\n        }\n      }\n    }\n  }\n}\narg_attr {\n  key: 4\n  value {\n    attr {\n      key: \"_output_shapes\"\n      value {\n        list {\n          shape {\n            dim {\n              size: -1\n            }\n            dim {\n              size: 64\n            }\n          }\n        }\n      }\n    }\n  }\n}\narg_attr {\n  key: 5\n  value {\n    attr {\n      key: \"_output_shapes\"\n      value {\n        list {\n          shape {\n            dim {\n              size: -1\n            }\n            dim {\n              size: 64\n            }\n          }\n        }\n      }\n    }\n  }\n}\narg_attr {\n  key: 6\n  value {\n    attr {\n      key: \"_output_shapes\"\n      value {\n        list {\n          shape {\n          }\n        }\n      }\n    }\n  }\n}\narg_attr {\n  key: 7\n  value {\n    attr {\n      key: \"_output_shapes\"\n      value {\n        list {\n          shape {\n            unknown_rank: true\n          }\n        }\n      }\n    }\n  }\n}\narg_attr {\n  key: 8\n  value {\n    attr {\n      key: \"_output_shapes\"\n      value {\n        list {\n          shape {\n            unknown_rank: true\n          }\n        }\n      }\n    }\n  }\n}\narg_attr {\n  key: 9\n  value {\n    attr {\n      key: \"_output_shapes\"\n      value {\n        list {\n          shape {\n            unknown_rank: true\n          }\n        }\n      }\n    }\n  }\n}\narg_attr {\n  key: 10\n  value {\n    attr {\n      key: \"_output_shapes\"\n      value {\n        list {\n          shape {\n            unknown_rank: true\n          }\n        }\n      }\n    }\n  }\n}\n and current definition: signature {\n  name: \"while_cond_5054\"\n  input_arg {\n    name: \"while_while_loop_counter\"\n    type: DT_INT32\n  }\n  input_arg {\n    name: \"while_while_maximum_iterations\"\n    type: DT_INT32\n  }\n  input_arg {\n    name: \"while_placeholder\"\n    type: DT_INT32\n  }\n  input_arg {\n    name: \"while_placeholder_1\"\n    type: DT_VARIANT\n  }\n  input_arg {\n    name: \"while_placeholder_2\"\n    type: DT_FLOAT\n  }\n  input_arg {\n    name: \"while_placeholder_3\"\n    type: DT_FLOAT\n  }\n  input_arg {\n    name: \"while_less_strided_slice\"\n    type: DT_INT32\n  }\n  input_arg {\n    name: \"while_while_cond_5054___redundant_placeholder0\"\n    type: DT_VARIANT\n  }\n  input_arg {\n    name: \"while_while_cond_5054___redundant_placeholder1\"\n    type: DT_FLOAT\n  }\n  input_arg {\n    name: \"while_while_cond_5054___redundant_placeholder2\"\n    type: DT_FLOAT\n  }\n  input_arg {\n    name: \"while_while_cond_5054___redundant_placeholder3\"\n    type: DT_FLOAT\n  }\n  output_arg {\n    name: \"while_identity\"\n    type: DT_BOOL\n  }\n}\nnode_def {\n  name: \"while/Less\"\n  op: \"Less\"\n  input: \"while_placeholder\"\n  input: \"while_less_strided_slice\"\n  attr {\n    key: \"T\"\n    value {\n      type: DT_INT32\n    }\n  }\n}\nret {\n  key: \"while_identity\"\n  value: \"while/Less:z:0\"\n}\nattr {\n  key: \"_construction_context\"\n  value {\n    s: \"kEagerRuntime\"\n  }\n}\narg_attr {\n  key: 0\n  value {\n    attr {\n      key: \"_output_shapes\"\n      value {\n        list {\n          shape {\n          }\n        }\n      }\n    }\n  }\n}\narg_attr {\n  key: 1\n  value {\n    attr {\n      key: \"_output_shapes\"\n      value {\n        list {\n          shape {\n          }\n        }\n      }\n    }\n  }\n}\narg_attr {\n  key: 2\n  value {\n    attr {\n      key: \"_output_shapes\"\n      value {\n        list {\n          shape {\n          }\n        }\n      }\n    }\n  }\n}\narg_attr {\n  key: 3\n  value {\n    attr {\n      key: \"_output_shapes\"\n      value {\n        list {\n          shape {\n          }\n        }\n      }\n    }\n  }\n}\narg_attr {\n  key: 4\n  value {\n    attr {\n      key: \"_output_shapes\"\n      value {\n        list {\n          shape {\n            dim {\n              size: -1\n            }\n            dim {\n              size: 64\n            }\n          }\n        }\n      }\n    }\n  }\n}\narg_attr {\n  key: 5\n  value {\n    attr {\n      key: \"_output_shapes\"\n      value {\n        list {\n          shape {\n            dim {\n              size: -1\n            }\n            dim {\n              size: 64\n            }\n          }\n        }\n      }\n    }\n  }\n}\narg_attr {\n  key: 6\n  value {\n    attr {\n      key: \"_output_shapes\"\n      value {\n        list {\n          shape {\n          }\n        }\n      }\n    }\n  }\n}\narg_attr {\n  key: 7\n  value {\n    attr {\n      key: \"_output_shapes\"\n      value {\n        list {\n          shape {\n            unknown_rank: true\n          }\n        }\n      }\n    }\n  }\n}\narg_attr {\n  key: 8\n  value {\n    attr {\n      key: \"_output_shapes\"\n      value {\n        list {\n          shape {\n            unknown_rank: true\n          }\n        }\n      }\n    }\n  }\n}\narg_attr {\n  key: 9\n  value {\n    attr {\n      key: \"_output_shapes\"\n      value {\n        list {\n          shape {\n            unknown_rank: true\n          }\n        }\n      }\n    }\n  }\n}\narg_attr {\n  key: 10\n  value {\n    attr {\n      key: \"_output_shapes\"\n      value {\n        list {\n          shape {\n            unknown_rank: true\n          }\n        }\n      }\n    }\n  }\n}\n",
     "output_type": "error",
     "traceback": [
      "\u001b[0;31m---------------------------------------------------------------------------\u001b[0m",
      "\u001b[0;31mInvalidArgumentError\u001b[0m                      Traceback (most recent call last)",
      "\u001b[0;32m<ipython-input-17-e595154dac24>\u001b[0m in \u001b[0;36m<module>\u001b[0;34m\u001b[0m\n\u001b[1;32m      1\u001b[0m coreml_model = ct.convert(\n\u001b[1;32m      2\u001b[0m     \u001b[0mmodel\u001b[0m\u001b[0;34m,\u001b[0m\u001b[0;34m\u001b[0m\u001b[0;34m\u001b[0m\u001b[0m\n\u001b[0;32m----> 3\u001b[0;31m     \u001b[0minputs\u001b[0m \u001b[0;34m=\u001b[0m \u001b[0;34m[\u001b[0m\u001b[0mct\u001b[0m\u001b[0;34m.\u001b[0m\u001b[0mTensorType\u001b[0m\u001b[0;34m(\u001b[0m\u001b[0mname\u001b[0m\u001b[0;34m=\u001b[0m\u001b[0;34m\"input_data\"\u001b[0m\u001b[0;34m,\u001b[0m \u001b[0mshape\u001b[0m\u001b[0;34m=\u001b[0m\u001b[0;34m(\u001b[0m\u001b[0;36m1\u001b[0m\u001b[0;34m,\u001b[0m \u001b[0;36m4\u001b[0m\u001b[0;34m,\u001b[0m \u001b[0;36m1\u001b[0m\u001b[0;34m)\u001b[0m\u001b[0;34m)\u001b[0m\u001b[0;34m]\u001b[0m\u001b[0;34m\u001b[0m\u001b[0;34m\u001b[0m\u001b[0m\n\u001b[0m\u001b[1;32m      4\u001b[0m )\n\u001b[1;32m      5\u001b[0m \u001b[0mcoreml_model\u001b[0m\u001b[0;34m.\u001b[0m\u001b[0msave\u001b[0m\u001b[0;34m(\u001b[0m\u001b[0;34m\"LSTMHeartRate.mlmodel\"\u001b[0m\u001b[0;34m)\u001b[0m\u001b[0;34m\u001b[0m\u001b[0;34m\u001b[0m\u001b[0m\n",
      "\u001b[0;32m~/anaconda3/envs/myenv/lib/python3.6/site-packages/coremltools/converters/_converters_entry.py\u001b[0m in \u001b[0;36mconvert\u001b[0;34m(model, source, inputs, outputs, classifier_config, minimum_deployment_target, convert_to, **kwargs)\u001b[0m\n\u001b[1;32m    180\u001b[0m         \u001b[0moutputs\u001b[0m\u001b[0;34m=\u001b[0m\u001b[0moutputs\u001b[0m\u001b[0;34m,\u001b[0m\u001b[0;34m\u001b[0m\u001b[0;34m\u001b[0m\u001b[0m\n\u001b[1;32m    181\u001b[0m         \u001b[0mclassifier_config\u001b[0m\u001b[0;34m=\u001b[0m\u001b[0mclassifier_config\u001b[0m\u001b[0;34m,\u001b[0m\u001b[0;34m\u001b[0m\u001b[0;34m\u001b[0m\u001b[0m\n\u001b[0;32m--> 182\u001b[0;31m         \u001b[0;34m**\u001b[0m\u001b[0mkwargs\u001b[0m\u001b[0;34m\u001b[0m\u001b[0;34m\u001b[0m\u001b[0m\n\u001b[0m\u001b[1;32m    183\u001b[0m     )\n\u001b[1;32m    184\u001b[0m \u001b[0;34m\u001b[0m\u001b[0m\n",
      "\u001b[0;32m~/anaconda3/envs/myenv/lib/python3.6/site-packages/coremltools/converters/mil/converter.py\u001b[0m in \u001b[0;36mmil_convert\u001b[0;34m(model, convert_from, convert_to, **kwargs)\u001b[0m\n\u001b[1;32m    127\u001b[0m     \"\"\"\n\u001b[1;32m    128\u001b[0m     proto = mil_convert_to_proto(model, convert_from, convert_to,\n\u001b[0;32m--> 129\u001b[0;31m         ConverterRegistry, **kwargs)\n\u001b[0m\u001b[1;32m    130\u001b[0m     \u001b[0;32mif\u001b[0m \u001b[0mconvert_to\u001b[0m \u001b[0;34m==\u001b[0m \u001b[0;34m'mil'\u001b[0m\u001b[0;34m:\u001b[0m\u001b[0;34m\u001b[0m\u001b[0;34m\u001b[0m\u001b[0m\n\u001b[1;32m    131\u001b[0m         \u001b[0;32mreturn\u001b[0m \u001b[0mproto\u001b[0m\u001b[0;34m\u001b[0m\u001b[0;34m\u001b[0m\u001b[0m\n",
      "\u001b[0;32m~/anaconda3/envs/myenv/lib/python3.6/site-packages/coremltools/converters/mil/converter.py\u001b[0m in \u001b[0;36mmil_convert_to_proto\u001b[0;34m(model, convert_from, convert_to, converter_registry, **kwargs)\u001b[0m\n\u001b[1;32m    169\u001b[0m     \u001b[0mfrontend_converter\u001b[0m \u001b[0;34m=\u001b[0m \u001b[0mfrontend_converter_type\u001b[0m\u001b[0;34m(\u001b[0m\u001b[0;34m)\u001b[0m\u001b[0;34m\u001b[0m\u001b[0;34m\u001b[0m\u001b[0m\n\u001b[1;32m    170\u001b[0m \u001b[0;34m\u001b[0m\u001b[0m\n\u001b[0;32m--> 171\u001b[0;31m     \u001b[0mprog\u001b[0m \u001b[0;34m=\u001b[0m \u001b[0mfrontend_converter\u001b[0m\u001b[0;34m(\u001b[0m\u001b[0mmodel\u001b[0m\u001b[0;34m,\u001b[0m \u001b[0;34m**\u001b[0m\u001b[0mkwargs\u001b[0m\u001b[0;34m)\u001b[0m\u001b[0;34m\u001b[0m\u001b[0;34m\u001b[0m\u001b[0m\n\u001b[0m\u001b[1;32m    172\u001b[0m     \u001b[0mcommon_pass\u001b[0m\u001b[0;34m(\u001b[0m\u001b[0mprog\u001b[0m\u001b[0;34m)\u001b[0m\u001b[0;34m\u001b[0m\u001b[0;34m\u001b[0m\u001b[0m\n\u001b[1;32m    173\u001b[0m \u001b[0;34m\u001b[0m\u001b[0m\n",
      "\u001b[0;32m~/anaconda3/envs/myenv/lib/python3.6/site-packages/coremltools/converters/mil/converter.py\u001b[0m in \u001b[0;36m__call__\u001b[0;34m(self, *args, **kwargs)\u001b[0m\n\u001b[1;32m     73\u001b[0m \u001b[0;34m\u001b[0m\u001b[0m\n\u001b[1;32m     74\u001b[0m         \u001b[0mtf2_loader\u001b[0m \u001b[0;34m=\u001b[0m \u001b[0mTF2Loader\u001b[0m\u001b[0;34m(\u001b[0m\u001b[0;34m*\u001b[0m\u001b[0margs\u001b[0m\u001b[0;34m,\u001b[0m \u001b[0;34m**\u001b[0m\u001b[0mkwargs\u001b[0m\u001b[0;34m)\u001b[0m\u001b[0;34m\u001b[0m\u001b[0;34m\u001b[0m\u001b[0m\n\u001b[0;32m---> 75\u001b[0;31m         \u001b[0;32mreturn\u001b[0m \u001b[0mtf2_loader\u001b[0m\u001b[0;34m.\u001b[0m\u001b[0mload\u001b[0m\u001b[0;34m(\u001b[0m\u001b[0;34m)\u001b[0m\u001b[0;34m\u001b[0m\u001b[0;34m\u001b[0m\u001b[0m\n\u001b[0m\u001b[1;32m     76\u001b[0m \u001b[0;34m\u001b[0m\u001b[0m\n\u001b[1;32m     77\u001b[0m \u001b[0;34m\u001b[0m\u001b[0m\n",
      "\u001b[0;32m~/anaconda3/envs/myenv/lib/python3.6/site-packages/coremltools/converters/mil/frontend/tensorflow/load.py\u001b[0m in \u001b[0;36mload\u001b[0;34m(self)\u001b[0m\n\u001b[1;32m     62\u001b[0m             \u001b[0;32mraise\u001b[0m \u001b[0mValueError\u001b[0m\u001b[0;34m(\u001b[0m\u001b[0mmsg\u001b[0m\u001b[0;34m)\u001b[0m\u001b[0;34m\u001b[0m\u001b[0;34m\u001b[0m\u001b[0m\n\u001b[1;32m     63\u001b[0m \u001b[0;34m\u001b[0m\u001b[0m\n\u001b[0;32m---> 64\u001b[0;31m         \u001b[0mself\u001b[0m\u001b[0;34m.\u001b[0m\u001b[0m_tf_ssa\u001b[0m \u001b[0;34m=\u001b[0m \u001b[0mself\u001b[0m\u001b[0;34m.\u001b[0m\u001b[0m_tf_ssa_from_graph_def\u001b[0m\u001b[0;34m(\u001b[0m\u001b[0;34m)\u001b[0m\u001b[0;34m\u001b[0m\u001b[0;34m\u001b[0m\u001b[0m\n\u001b[0m\u001b[1;32m     65\u001b[0m \u001b[0;34m\u001b[0m\u001b[0m\n\u001b[1;32m     66\u001b[0m         \u001b[0;32mdel\u001b[0m \u001b[0mself\u001b[0m\u001b[0;34m.\u001b[0m\u001b[0m_graph_def\u001b[0m\u001b[0;34m\u001b[0m\u001b[0;34m\u001b[0m\u001b[0m\n",
      "\u001b[0;32m~/anaconda3/envs/myenv/lib/python3.6/site-packages/coremltools/converters/mil/frontend/tensorflow2/load.py\u001b[0m in \u001b[0;36m_tf_ssa_from_graph_def\u001b[0;34m(self, fn_name)\u001b[0m\n\u001b[1;32m    114\u001b[0m         \u001b[0;31m# sub-graphs' input shapes are required for extracting sub-graphs\u001b[0m\u001b[0;34m\u001b[0m\u001b[0;34m\u001b[0m\u001b[0;34m\u001b[0m\u001b[0m\n\u001b[1;32m    115\u001b[0m         sg_input_shapes = self._populate_sub_graph_input_shapes(\n\u001b[0;32m--> 116\u001b[0;31m             \u001b[0mtf_graph\u001b[0m\u001b[0;34m,\u001b[0m \u001b[0mtf_graph\u001b[0m\u001b[0;34m.\u001b[0m\u001b[0m_functions\u001b[0m\u001b[0;34m\u001b[0m\u001b[0;34m\u001b[0m\u001b[0m\n\u001b[0m\u001b[1;32m    117\u001b[0m         )\n\u001b[1;32m    118\u001b[0m \u001b[0;34m\u001b[0m\u001b[0m\n",
      "\u001b[0;32m~/anaconda3/envs/myenv/lib/python3.6/site-packages/coremltools/converters/mil/frontend/tensorflow2/load.py\u001b[0m in \u001b[0;36m_populate_sub_graph_input_shapes\u001b[0;34m(self, graph, graph_fns)\u001b[0m\n\u001b[1;32m    217\u001b[0m         \u001b[0;32mfor\u001b[0m \u001b[0mname\u001b[0m \u001b[0;32min\u001b[0m \u001b[0msub_graphs\u001b[0m\u001b[0;34m:\u001b[0m\u001b[0;34m\u001b[0m\u001b[0;34m\u001b[0m\u001b[0m\n\u001b[1;32m    218\u001b[0m             \u001b[0msg\u001b[0m \u001b[0;34m=\u001b[0m \u001b[0mgraph_fns\u001b[0m\u001b[0;34m.\u001b[0m\u001b[0mget\u001b[0m\u001b[0;34m(\u001b[0m\u001b[0mname\u001b[0m\u001b[0;34m)\u001b[0m\u001b[0;34m\u001b[0m\u001b[0;34m\u001b[0m\u001b[0m\n\u001b[0;32m--> 219\u001b[0;31m             \u001b[0mfn_def\u001b[0m \u001b[0;34m=\u001b[0m \u001b[0msg\u001b[0m\u001b[0;34m.\u001b[0m\u001b[0mdefinition\u001b[0m\u001b[0;34m\u001b[0m\u001b[0;34m\u001b[0m\u001b[0m\n\u001b[0m\u001b[1;32m    220\u001b[0m             \u001b[0mop_input_shapes\u001b[0m \u001b[0;34m=\u001b[0m \u001b[0msg_input_shapes\u001b[0m\u001b[0;34m[\u001b[0m\u001b[0mname\u001b[0m\u001b[0;34m]\u001b[0m\u001b[0;34m\u001b[0m\u001b[0;34m\u001b[0m\u001b[0m\n\u001b[1;32m    221\u001b[0m             \u001b[0mop_input_shapes\u001b[0m \u001b[0;34m=\u001b[0m \u001b[0mop_input_shapes\u001b[0m\u001b[0;34m[\u001b[0m\u001b[0;34m-\u001b[0m\u001b[0mlen\u001b[0m\u001b[0;34m(\u001b[0m\u001b[0mfn_def\u001b[0m\u001b[0;34m.\u001b[0m\u001b[0msignature\u001b[0m\u001b[0;34m.\u001b[0m\u001b[0minput_arg\u001b[0m\u001b[0;34m)\u001b[0m \u001b[0;34m:\u001b[0m\u001b[0;34m]\u001b[0m\u001b[0;34m\u001b[0m\u001b[0;34m\u001b[0m\u001b[0m\n",
      "\u001b[0;32m~/anaconda3/envs/myenv/lib/python3.6/site-packages/tensorflow/python/framework/function.py\u001b[0m in \u001b[0;36mdefinition\u001b[0;34m(self)\u001b[0m\n\u001b[1;32m    325\u001b[0m         \u001b[0;32mwith\u001b[0m \u001b[0mops\u001b[0m\u001b[0;34m.\u001b[0m\u001b[0minit_scope\u001b[0m\u001b[0;34m(\u001b[0m\u001b[0;34m)\u001b[0m\u001b[0;34m:\u001b[0m\u001b[0;34m\u001b[0m\u001b[0;34m\u001b[0m\u001b[0m\n\u001b[1;32m    326\u001b[0m           \u001b[0;32mif\u001b[0m \u001b[0mcontext\u001b[0m\u001b[0;34m.\u001b[0m\u001b[0mexecuting_eagerly\u001b[0m\u001b[0;34m(\u001b[0m\u001b[0;34m)\u001b[0m\u001b[0;34m:\u001b[0m\u001b[0;34m\u001b[0m\u001b[0;34m\u001b[0m\u001b[0m\n\u001b[0;32m--> 327\u001b[0;31m             \u001b[0mcontext\u001b[0m\u001b[0;34m.\u001b[0m\u001b[0madd_function\u001b[0m\u001b[0;34m(\u001b[0m\u001b[0mself\u001b[0m\u001b[0;34m.\u001b[0m\u001b[0m_c_func\u001b[0m\u001b[0;34m.\u001b[0m\u001b[0mfunc\u001b[0m\u001b[0;34m)\u001b[0m\u001b[0;34m\u001b[0m\u001b[0;34m\u001b[0m\u001b[0m\n\u001b[0m\u001b[1;32m    328\u001b[0m             self._function_deleter = _DefinedFunctionDeleter(\n\u001b[1;32m    329\u001b[0m                 fdef.signature.name)\n",
      "\u001b[0;32m~/anaconda3/envs/myenv/lib/python3.6/site-packages/tensorflow/python/eager/context.py\u001b[0m in \u001b[0;36madd_function\u001b[0;34m(fdef)\u001b[0m\n\u001b[1;32m   2509\u001b[0m \u001b[0;32mdef\u001b[0m \u001b[0madd_function\u001b[0m\u001b[0;34m(\u001b[0m\u001b[0mfdef\u001b[0m\u001b[0;34m)\u001b[0m\u001b[0;34m:\u001b[0m\u001b[0;34m\u001b[0m\u001b[0;34m\u001b[0m\u001b[0m\n\u001b[1;32m   2510\u001b[0m   \u001b[0;34m\"\"\"Add a function definition to the context.\"\"\"\u001b[0m\u001b[0;34m\u001b[0m\u001b[0;34m\u001b[0m\u001b[0m\n\u001b[0;32m-> 2511\u001b[0;31m   \u001b[0mcontext\u001b[0m\u001b[0;34m(\u001b[0m\u001b[0;34m)\u001b[0m\u001b[0;34m.\u001b[0m\u001b[0madd_function\u001b[0m\u001b[0;34m(\u001b[0m\u001b[0mfdef\u001b[0m\u001b[0;34m)\u001b[0m\u001b[0;34m\u001b[0m\u001b[0;34m\u001b[0m\u001b[0m\n\u001b[0m\u001b[1;32m   2512\u001b[0m \u001b[0;34m\u001b[0m\u001b[0m\n\u001b[1;32m   2513\u001b[0m \u001b[0;34m\u001b[0m\u001b[0m\n",
      "\u001b[0;32m~/anaconda3/envs/myenv/lib/python3.6/site-packages/tensorflow/python/eager/context.py\u001b[0m in \u001b[0;36madd_function\u001b[0;34m(self, fn)\u001b[0m\n\u001b[1;32m   1154\u001b[0m     \"\"\"\n\u001b[1;32m   1155\u001b[0m     \u001b[0mself\u001b[0m\u001b[0;34m.\u001b[0m\u001b[0mensure_initialized\u001b[0m\u001b[0;34m(\u001b[0m\u001b[0;34m)\u001b[0m\u001b[0;34m\u001b[0m\u001b[0;34m\u001b[0m\u001b[0m\n\u001b[0;32m-> 1156\u001b[0;31m     \u001b[0mpywrap_tfe\u001b[0m\u001b[0;34m.\u001b[0m\u001b[0mTFE_ContextAddFunction\u001b[0m\u001b[0;34m(\u001b[0m\u001b[0mself\u001b[0m\u001b[0;34m.\u001b[0m\u001b[0m_handle\u001b[0m\u001b[0;34m,\u001b[0m \u001b[0mfn\u001b[0m\u001b[0;34m)\u001b[0m\u001b[0;34m\u001b[0m\u001b[0;34m\u001b[0m\u001b[0m\n\u001b[0m\u001b[1;32m   1157\u001b[0m \u001b[0;34m\u001b[0m\u001b[0m\n\u001b[1;32m   1158\u001b[0m   \u001b[0;32mdef\u001b[0m \u001b[0madd_function_def\u001b[0m\u001b[0;34m(\u001b[0m\u001b[0mself\u001b[0m\u001b[0;34m,\u001b[0m \u001b[0mfdef\u001b[0m\u001b[0;34m)\u001b[0m\u001b[0;34m:\u001b[0m\u001b[0;34m\u001b[0m\u001b[0;34m\u001b[0m\u001b[0m\n",
      "\u001b[0;31mInvalidArgumentError\u001b[0m: Attempting to add a duplicate function with name: while_cond_5054 where the previous and current definitions differ. Previous definition: signature {\n  name: \"while_cond_5054\"\n  input_arg {\n    name: \"while_while_loop_counter\"\n    type: DT_INT32\n  }\n  input_arg {\n    name: \"while_while_maximum_iterations\"\n    type: DT_INT32\n  }\n  input_arg {\n    name: \"while_placeholder\"\n    type: DT_INT32\n  }\n  input_arg {\n    name: \"while_placeholder_1\"\n    type: DT_VARIANT\n  }\n  input_arg {\n    name: \"while_placeholder_2\"\n    type: DT_FLOAT\n  }\n  input_arg {\n    name: \"while_placeholder_3\"\n    type: DT_FLOAT\n  }\n  input_arg {\n    name: \"while_less_strided_slice\"\n    type: DT_INT32\n  }\n  input_arg {\n    name: \"while_while_cond_5054___redundant_placeholder0\"\n    type: DT_VARIANT\n  }\n  input_arg {\n    name: \"while_while_cond_5054___redundant_placeholder1\"\n    type: DT_FLOAT\n  }\n  input_arg {\n    name: \"while_while_cond_5054___redundant_placeholder2\"\n    type: DT_FLOAT\n  }\n  input_arg {\n    name: \"while_while_cond_5054___redundant_placeholder3\"\n    type: DT_FLOAT\n  }\n  output_arg {\n    name: \"while_identity\"\n    type: DT_BOOL\n  }\n}\nnode_def {\n  name: \"while/Less\"\n  op: \"Less\"\n  input: \"while_placeholder\"\n  input: \"while_less_strided_slice\"\n  attr {\n    key: \"T\"\n    value {\n      type: DT_INT32\n    }\n  }\n}\nnode_def {\n  name: \"while/Identity\"\n  op: \"Identity\"\n  input: \"while/Less:z:0\"\n  attr {\n    key: \"T\"\n    value {\n      type: DT_BOOL\n    }\n  }\n}\nret {\n  key: \"while_identity\"\n  value: \"while/Identity:output:0\"\n}\nattr {\n  key: \"_construction_context\"\n  value {\n    s: \"kEagerRuntime\"\n  }\n}\narg_attr {\n  key: 0\n  value {\n    attr {\n      key: \"_output_shapes\"\n      value {\n        list {\n          shape {\n          }\n        }\n      }\n    }\n  }\n}\narg_attr {\n  key: 1\n  value {\n    attr {\n      key: \"_output_shapes\"\n      value {\n        list {\n          shape {\n          }\n        }\n      }\n    }\n  }\n}\narg_attr {\n  key: 2\n  value {\n    attr {\n      key: \"_output_shapes\"\n      value {\n        list {\n          shape {\n          }\n        }\n      }\n    }\n  }\n}\narg_attr {\n  key: 3\n  value {\n    attr {\n      key: \"_output_shapes\"\n      value {\n        list {\n          shape {\n          }\n        }\n      }\n    }\n  }\n}\narg_attr {\n  key: 4\n  value {\n    attr {\n      key: \"_output_shapes\"\n      value {\n        list {\n          shape {\n            dim {\n              size: -1\n            }\n            dim {\n              size: 64\n            }\n          }\n        }\n      }\n    }\n  }\n}\narg_attr {\n  key: 5\n  value {\n    attr {\n      key: \"_output_shapes\"\n      value {\n        list {\n          shape {\n            dim {\n              size: -1\n            }\n            dim {\n              size: 64\n            }\n          }\n        }\n      }\n    }\n  }\n}\narg_attr {\n  key: 6\n  value {\n    attr {\n      key: \"_output_shapes\"\n      value {\n        list {\n          shape {\n          }\n        }\n      }\n    }\n  }\n}\narg_attr {\n  key: 7\n  value {\n    attr {\n      key: \"_output_shapes\"\n      value {\n        list {\n          shape {\n            unknown_rank: true\n          }\n        }\n      }\n    }\n  }\n}\narg_attr {\n  key: 8\n  value {\n    attr {\n      key: \"_output_shapes\"\n      value {\n        list {\n          shape {\n            unknown_rank: true\n          }\n        }\n      }\n    }\n  }\n}\narg_attr {\n  key: 9\n  value {\n    attr {\n      key: \"_output_shapes\"\n      value {\n        list {\n          shape {\n            unknown_rank: true\n          }\n        }\n      }\n    }\n  }\n}\narg_attr {\n  key: 10\n  value {\n    attr {\n      key: \"_output_shapes\"\n      value {\n        list {\n          shape {\n            unknown_rank: true\n          }\n        }\n      }\n    }\n  }\n}\n and current definition: signature {\n  name: \"while_cond_5054\"\n  input_arg {\n    name: \"while_while_loop_counter\"\n    type: DT_INT32\n  }\n  input_arg {\n    name: \"while_while_maximum_iterations\"\n    type: DT_INT32\n  }\n  input_arg {\n    name: \"while_placeholder\"\n    type: DT_INT32\n  }\n  input_arg {\n    name: \"while_placeholder_1\"\n    type: DT_VARIANT\n  }\n  input_arg {\n    name: \"while_placeholder_2\"\n    type: DT_FLOAT\n  }\n  input_arg {\n    name: \"while_placeholder_3\"\n    type: DT_FLOAT\n  }\n  input_arg {\n    name: \"while_less_strided_slice\"\n    type: DT_INT32\n  }\n  input_arg {\n    name: \"while_while_cond_5054___redundant_placeholder0\"\n    type: DT_VARIANT\n  }\n  input_arg {\n    name: \"while_while_cond_5054___redundant_placeholder1\"\n    type: DT_FLOAT\n  }\n  input_arg {\n    name: \"while_while_cond_5054___redundant_placeholder2\"\n    type: DT_FLOAT\n  }\n  input_arg {\n    name: \"while_while_cond_5054___redundant_placeholder3\"\n    type: DT_FLOAT\n  }\n  output_arg {\n    name: \"while_identity\"\n    type: DT_BOOL\n  }\n}\nnode_def {\n  name: \"while/Less\"\n  op: \"Less\"\n  input: \"while_placeholder\"\n  input: \"while_less_strided_slice\"\n  attr {\n    key: \"T\"\n    value {\n      type: DT_INT32\n    }\n  }\n}\nret {\n  key: \"while_identity\"\n  value: \"while/Less:z:0\"\n}\nattr {\n  key: \"_construction_context\"\n  value {\n    s: \"kEagerRuntime\"\n  }\n}\narg_attr {\n  key: 0\n  value {\n    attr {\n      key: \"_output_shapes\"\n      value {\n        list {\n          shape {\n          }\n        }\n      }\n    }\n  }\n}\narg_attr {\n  key: 1\n  value {\n    attr {\n      key: \"_output_shapes\"\n      value {\n        list {\n          shape {\n          }\n        }\n      }\n    }\n  }\n}\narg_attr {\n  key: 2\n  value {\n    attr {\n      key: \"_output_shapes\"\n      value {\n        list {\n          shape {\n          }\n        }\n      }\n    }\n  }\n}\narg_attr {\n  key: 3\n  value {\n    attr {\n      key: \"_output_shapes\"\n      value {\n        list {\n          shape {\n          }\n        }\n      }\n    }\n  }\n}\narg_attr {\n  key: 4\n  value {\n    attr {\n      key: \"_output_shapes\"\n      value {\n        list {\n          shape {\n            dim {\n              size: -1\n            }\n            dim {\n              size: 64\n            }\n          }\n        }\n      }\n    }\n  }\n}\narg_attr {\n  key: 5\n  value {\n    attr {\n      key: \"_output_shapes\"\n      value {\n        list {\n          shape {\n            dim {\n              size: -1\n            }\n            dim {\n              size: 64\n            }\n          }\n        }\n      }\n    }\n  }\n}\narg_attr {\n  key: 6\n  value {\n    attr {\n      key: \"_output_shapes\"\n      value {\n        list {\n          shape {\n          }\n        }\n      }\n    }\n  }\n}\narg_attr {\n  key: 7\n  value {\n    attr {\n      key: \"_output_shapes\"\n      value {\n        list {\n          shape {\n            unknown_rank: true\n          }\n        }\n      }\n    }\n  }\n}\narg_attr {\n  key: 8\n  value {\n    attr {\n      key: \"_output_shapes\"\n      value {\n        list {\n          shape {\n            unknown_rank: true\n          }\n        }\n      }\n    }\n  }\n}\narg_attr {\n  key: 9\n  value {\n    attr {\n      key: \"_output_shapes\"\n      value {\n        list {\n          shape {\n            unknown_rank: true\n          }\n        }\n      }\n    }\n  }\n}\narg_attr {\n  key: 10\n  value {\n    attr {\n      key: \"_output_shapes\"\n      value {\n        list {\n          shape {\n            unknown_rank: true\n          }\n        }\n      }\n    }\n  }\n}\n"
     ]
    }
   ],
   "source": [
    "coreml_model = ct.convert(\n",
    "    model,\n",
    "    inputs = [ct.TensorType(name=\"input_data\", shape=(1, 4, 1))]\n",
    ")\n",
    "coreml_model.save(\"LSTMHeartRate.mlmodel\")"
   ]
  },
  {
   "cell_type": "code",
   "execution_count": 14,
   "id": "96d38a83-7f04-41da-b093-1c64b8d9e9a6",
   "metadata": {},
   "outputs": [
    {
     "name": "stderr",
     "output_type": "stream",
     "text": [
      "/Users/rohangupta/anaconda3/envs/myenv/lib/python3.6/site-packages/sklearn/ensemble/weight_boosting.py:29: DeprecationWarning: numpy.core.umath_tests is an internal NumPy module and should not be imported. It will be removed in a future NumPy release.\n",
      "  from numpy.core.umath_tests import inner1d\n"
     ]
    },
    {
     "ename": "ValueError",
     "evalue": "Transformer '<keras.engine.sequential.Sequential object at 0x7fbaf590e3c8>' not supported; supported transformers are coremltools.converters.sklearn._dict_vectorizer,coremltools.converters.sklearn._one_hot_encoder,coremltools.converters.sklearn._normalizer,coremltools.converters.sklearn._standard_scaler,coremltools.converters.sklearn._imputer,coremltools.converters.sklearn._NuSVC,coremltools.converters.sklearn._NuSVR,coremltools.converters.sklearn._SVC,coremltools.converters.sklearn._SVR,coremltools.converters.sklearn._linear_regression,coremltools.converters.sklearn._LinearSVC,coremltools.converters.sklearn._LinearSVR,coremltools.converters.sklearn._logistic_regression,coremltools.converters.sklearn._random_forest_classifier,coremltools.converters.sklearn._random_forest_regressor,coremltools.converters.sklearn._decision_tree_classifier,coremltools.converters.sklearn._decision_tree_regressor,coremltools.converters.sklearn._gradient_boosting_classifier,coremltools.converters.sklearn._gradient_boosting_regressor,coremltools.converters.sklearn._k_neighbors_classifier.",
     "output_type": "error",
     "traceback": [
      "\u001b[0;31m---------------------------------------------------------------------------\u001b[0m",
      "\u001b[0;31mKeyError\u001b[0m                                  Traceback (most recent call last)",
      "\u001b[0;32m~/anaconda3/envs/myenv/lib/python3.6/site-packages/coremltools/converters/sklearn/_converter_internal.py\u001b[0m in \u001b[0;36m_get_converter_module\u001b[0;34m(sk_obj)\u001b[0m\n\u001b[1;32m     99\u001b[0m     \u001b[0;32mtry\u001b[0m\u001b[0;34m:\u001b[0m\u001b[0;34m\u001b[0m\u001b[0;34m\u001b[0m\u001b[0m\n\u001b[0;32m--> 100\u001b[0;31m         \u001b[0mcv_idx\u001b[0m \u001b[0;34m=\u001b[0m \u001b[0m_converter_lookup\u001b[0m\u001b[0;34m[\u001b[0m\u001b[0msk_obj\u001b[0m\u001b[0;34m.\u001b[0m\u001b[0m__class__\u001b[0m\u001b[0;34m]\u001b[0m\u001b[0;34m\u001b[0m\u001b[0;34m\u001b[0m\u001b[0m\n\u001b[0m\u001b[1;32m    101\u001b[0m     \u001b[0;32mexcept\u001b[0m \u001b[0mKeyError\u001b[0m\u001b[0;34m:\u001b[0m\u001b[0;34m\u001b[0m\u001b[0;34m\u001b[0m\u001b[0m\n",
      "\u001b[0;31mKeyError\u001b[0m: <class 'keras.engine.sequential.Sequential'>",
      "\nDuring handling of the above exception, another exception occurred:\n",
      "\u001b[0;31mValueError\u001b[0m                                Traceback (most recent call last)",
      "\u001b[0;32m<ipython-input-14-32bee1e05c15>\u001b[0m in \u001b[0;36m<module>\u001b[0;34m\u001b[0m\n\u001b[1;32m      1\u001b[0m \u001b[0;31m# Convert the model\u001b[0m\u001b[0;34m\u001b[0m\u001b[0;34m\u001b[0m\u001b[0;34m\u001b[0m\u001b[0m\n\u001b[0;32m----> 2\u001b[0;31m \u001b[0mcoreml_model\u001b[0m \u001b[0;34m=\u001b[0m \u001b[0mct\u001b[0m\u001b[0;34m.\u001b[0m\u001b[0mconverters\u001b[0m\u001b[0;34m.\u001b[0m\u001b[0msklearn\u001b[0m\u001b[0;34m.\u001b[0m\u001b[0mconvert\u001b[0m\u001b[0;34m(\u001b[0m\u001b[0mmodel\u001b[0m\u001b[0;34m,\u001b[0m \u001b[0minput_features\u001b[0m\u001b[0;34m=\u001b[0m\u001b[0;34m[\u001b[0m\u001b[0;34m'start_time'\u001b[0m\u001b[0;34m,\u001b[0m \u001b[0;34m'end_time'\u001b[0m\u001b[0;34m,\u001b[0m \u001b[0;34m'time_step'\u001b[0m\u001b[0;34m,\u001b[0m \u001b[0;34m'stage'\u001b[0m\u001b[0;34m]\u001b[0m\u001b[0;34m,\u001b[0m \u001b[0moutput_feature_names\u001b[0m\u001b[0;34m=\u001b[0m\u001b[0;34m'heart_rate_intervals'\u001b[0m\u001b[0;34m)\u001b[0m\u001b[0;34m\u001b[0m\u001b[0;34m\u001b[0m\u001b[0m\n\u001b[0m\u001b[1;32m      3\u001b[0m \u001b[0;34m\u001b[0m\u001b[0m\n\u001b[1;32m      4\u001b[0m \u001b[0;31m# Save the model\u001b[0m\u001b[0;34m\u001b[0m\u001b[0;34m\u001b[0m\u001b[0;34m\u001b[0m\u001b[0m\n\u001b[1;32m      5\u001b[0m \u001b[0mcoreml_model\u001b[0m\u001b[0;34m.\u001b[0m\u001b[0msave\u001b[0m\u001b[0;34m(\u001b[0m\u001b[0;34m\"LSTMHeartRate.mlmodel\"\u001b[0m\u001b[0;34m)\u001b[0m\u001b[0;34m\u001b[0m\u001b[0;34m\u001b[0m\u001b[0m\n",
      "\u001b[0;32m~/anaconda3/envs/myenv/lib/python3.6/site-packages/coremltools/converters/sklearn/_converter.py\u001b[0m in \u001b[0;36mconvert\u001b[0;34m(sk_obj, input_features, output_feature_names)\u001b[0m\n\u001b[1;32m    149\u001b[0m \u001b[0;34m\u001b[0m\u001b[0m\n\u001b[1;32m    150\u001b[0m     spec = _convert_sklearn_model(\n\u001b[0;32m--> 151\u001b[0;31m         \u001b[0msk_obj\u001b[0m\u001b[0;34m,\u001b[0m \u001b[0minput_features\u001b[0m\u001b[0;34m,\u001b[0m \u001b[0moutput_feature_names\u001b[0m\u001b[0;34m,\u001b[0m \u001b[0mclass_labels\u001b[0m\u001b[0;34m=\u001b[0m\u001b[0;32mNone\u001b[0m\u001b[0;34m\u001b[0m\u001b[0;34m\u001b[0m\u001b[0m\n\u001b[0m\u001b[1;32m    152\u001b[0m     )\n\u001b[1;32m    153\u001b[0m \u001b[0;34m\u001b[0m\u001b[0m\n",
      "\u001b[0;32m~/anaconda3/envs/myenv/lib/python3.6/site-packages/coremltools/converters/sklearn/_converter_internal.py\u001b[0m in \u001b[0;36m_convert_sklearn_model\u001b[0;34m(input_sk_obj, input_features, output_feature_names, class_labels)\u001b[0m\n\u001b[1;32m    162\u001b[0m     obj_list = [\n\u001b[1;32m    163\u001b[0m         \u001b[0mInput\u001b[0m\u001b[0;34m(\u001b[0m\u001b[0msk_obj_name\u001b[0m\u001b[0;34m,\u001b[0m \u001b[0msk_obj\u001b[0m\u001b[0;34m,\u001b[0m \u001b[0m_get_converter_module\u001b[0m\u001b[0;34m(\u001b[0m\u001b[0msk_obj\u001b[0m\u001b[0;34m)\u001b[0m\u001b[0;34m)\u001b[0m\u001b[0;34m\u001b[0m\u001b[0;34m\u001b[0m\u001b[0m\n\u001b[0;32m--> 164\u001b[0;31m         \u001b[0;32mfor\u001b[0m \u001b[0msk_obj_name\u001b[0m\u001b[0;34m,\u001b[0m \u001b[0msk_obj\u001b[0m \u001b[0;32min\u001b[0m \u001b[0msk_obj_list\u001b[0m\u001b[0;34m\u001b[0m\u001b[0;34m\u001b[0m\u001b[0m\n\u001b[0m\u001b[1;32m    165\u001b[0m     ]\n\u001b[1;32m    166\u001b[0m \u001b[0;34m\u001b[0m\u001b[0m\n",
      "\u001b[0;32m~/anaconda3/envs/myenv/lib/python3.6/site-packages/coremltools/converters/sklearn/_converter_internal.py\u001b[0m in \u001b[0;36m<listcomp>\u001b[0;34m(.0)\u001b[0m\n\u001b[1;32m    162\u001b[0m     obj_list = [\n\u001b[1;32m    163\u001b[0m         \u001b[0mInput\u001b[0m\u001b[0;34m(\u001b[0m\u001b[0msk_obj_name\u001b[0m\u001b[0;34m,\u001b[0m \u001b[0msk_obj\u001b[0m\u001b[0;34m,\u001b[0m \u001b[0m_get_converter_module\u001b[0m\u001b[0;34m(\u001b[0m\u001b[0msk_obj\u001b[0m\u001b[0;34m)\u001b[0m\u001b[0;34m)\u001b[0m\u001b[0;34m\u001b[0m\u001b[0;34m\u001b[0m\u001b[0m\n\u001b[0;32m--> 164\u001b[0;31m         \u001b[0;32mfor\u001b[0m \u001b[0msk_obj_name\u001b[0m\u001b[0;34m,\u001b[0m \u001b[0msk_obj\u001b[0m \u001b[0;32min\u001b[0m \u001b[0msk_obj_list\u001b[0m\u001b[0;34m\u001b[0m\u001b[0;34m\u001b[0m\u001b[0m\n\u001b[0m\u001b[1;32m    165\u001b[0m     ]\n\u001b[1;32m    166\u001b[0m \u001b[0;34m\u001b[0m\u001b[0m\n",
      "\u001b[0;32m~/anaconda3/envs/myenv/lib/python3.6/site-packages/coremltools/converters/sklearn/_converter_internal.py\u001b[0m in \u001b[0;36m_get_converter_module\u001b[0;34m(sk_obj)\u001b[0m\n\u001b[1;32m    102\u001b[0m         raise ValueError(\n\u001b[1;32m    103\u001b[0m             \u001b[0;34m\"Transformer '%s' not supported; supported transformers are %s.\"\u001b[0m\u001b[0;34m\u001b[0m\u001b[0;34m\u001b[0m\u001b[0m\n\u001b[0;32m--> 104\u001b[0;31m             \u001b[0;34m%\u001b[0m \u001b[0;34m(\u001b[0m\u001b[0mrepr\u001b[0m\u001b[0;34m(\u001b[0m\u001b[0msk_obj\u001b[0m\u001b[0;34m)\u001b[0m\u001b[0;34m,\u001b[0m \u001b[0;34m\",\"\u001b[0m\u001b[0;34m.\u001b[0m\u001b[0mjoin\u001b[0m\u001b[0;34m(\u001b[0m\u001b[0mk\u001b[0m\u001b[0;34m.\u001b[0m\u001b[0m__name__\u001b[0m \u001b[0;32mfor\u001b[0m \u001b[0mk\u001b[0m \u001b[0;32min\u001b[0m \u001b[0m_converter_module_list\u001b[0m\u001b[0;34m)\u001b[0m\u001b[0;34m)\u001b[0m\u001b[0;34m\u001b[0m\u001b[0;34m\u001b[0m\u001b[0m\n\u001b[0m\u001b[1;32m    105\u001b[0m         )\n\u001b[1;32m    106\u001b[0m \u001b[0;34m\u001b[0m\u001b[0m\n",
      "\u001b[0;31mValueError\u001b[0m: Transformer '<keras.engine.sequential.Sequential object at 0x7fbaf590e3c8>' not supported; supported transformers are coremltools.converters.sklearn._dict_vectorizer,coremltools.converters.sklearn._one_hot_encoder,coremltools.converters.sklearn._normalizer,coremltools.converters.sklearn._standard_scaler,coremltools.converters.sklearn._imputer,coremltools.converters.sklearn._NuSVC,coremltools.converters.sklearn._NuSVR,coremltools.converters.sklearn._SVC,coremltools.converters.sklearn._SVR,coremltools.converters.sklearn._linear_regression,coremltools.converters.sklearn._LinearSVC,coremltools.converters.sklearn._LinearSVR,coremltools.converters.sklearn._logistic_regression,coremltools.converters.sklearn._random_forest_classifier,coremltools.converters.sklearn._random_forest_regressor,coremltools.converters.sklearn._decision_tree_classifier,coremltools.converters.sklearn._decision_tree_regressor,coremltools.converters.sklearn._gradient_boosting_classifier,coremltools.converters.sklearn._gradient_boosting_regressor,coremltools.converters.sklearn._k_neighbors_classifier."
     ]
    }
   ],
   "source": [
    "# Convert the model\n",
    "# coreml_model = ct.converters.sklearn.convert(model, input_features=['start_time', 'end_time', 'time_step', 'stage'], output_feature_names='heart_rate_intervals')\n",
    "\n",
    "# # Save the model\n",
    "# coreml_model.save(\"LSTMHeartRate.mlmodel\")\n",
    "\n",
    "# Loading the model\n",
    "# with open('LSTMHeartRate.pkl', 'rb') as file:\n",
    "#     best_model_loaded = pickle.load(file)"
   ]
  },
  {
   "cell_type": "code",
   "execution_count": null,
   "id": "4cf6e61d",
   "metadata": {},
   "outputs": [],
   "source": []
  }
 ],
 "metadata": {
  "kernelspec": {
   "display_name": "Python 3",
   "language": "python",
   "name": "python3"
  },
  "language_info": {
   "codemirror_mode": {
    "name": "ipython",
    "version": 3
   },
   "file_extension": ".py",
   "mimetype": "text/x-python",
   "name": "python",
   "nbconvert_exporter": "python",
   "pygments_lexer": "ipython3",
   "version": "3.6.13"
  }
 },
 "nbformat": 4,
 "nbformat_minor": 5
}
