{
 "cells": [
  {
   "cell_type": "code",
   "execution_count": 18,
   "id": "e4274587-a732-4ab7-b06e-50ca6c547a72",
   "metadata": {},
   "outputs": [],
   "source": [
    "# ! pip install imbalanced-learn\n",
    "# ! pip install --force-reinstall 'scikit-learn==0.19.2' \n",
    "# ! pip install pickle-mixin\n",
    "# ! pip install --force-reinstall 'scikit-learn==0.19.2' "
   ]
  },
  {
   "cell_type": "code",
   "execution_count": 19,
   "id": "1b65b8e5-c1bd-4adc-b798-be6e527e65bc",
   "metadata": {},
   "outputs": [],
   "source": [
    "import math\n",
    "import json\n",
    "import pickle\n",
    "import numpy as np\n",
    "import pandas as pd\n",
    "import coremltools as ct\n",
    "import matplotlib.pyplot as plt\n",
    "from datetime import datetime\n",
    "from collections import defaultdict\n",
    "\n",
    "from sklearn.tree import _tree\n",
    "from sklearn.ensemble import RandomForestClassifier\n",
    "from sklearn.metrics import classification_report, accuracy_score\n",
    "from sklearn.model_selection import train_test_split\n",
    "from imblearn.over_sampling import SMOTE"
   ]
  },
  {
   "cell_type": "code",
   "execution_count": 20,
   "id": "8def0a8c-fcd1-4b86-a8b7-645a6bf7f00e",
   "metadata": {},
   "outputs": [],
   "source": [
    "STAGE = {\n",
    "    'In Bed': 0,\n",
    "    'Awake': 1,\n",
    "    'Asleep': 2,\n",
    "    'REM': 3,\n",
    "    'Core': 4,\n",
    "    'Deep': 5,\n",
    "    'Unknown': 6\n",
    "}"
   ]
  },
  {
   "cell_type": "code",
   "execution_count": 21,
   "id": "643e7bb3-acb1-4a09-9c87-e28014b6da73",
   "metadata": {},
   "outputs": [],
   "source": [
    "def load_json(path: str) -> dict:\n",
    "    with open(path, 'r') as file:\n",
    "        return json.load(file)\n",
    "\n",
    "def parse_time(time: str) -> datetime:\n",
    "    return datetime.strptime(time, '%Y-%m-%d %H:%M:%S')\n",
    "\n",
    "def to_min(cur_time: datetime, start_time: datetime) -> int:\n",
    "    return int((cur_time - start_time).total_seconds()//60)\n",
    "\n",
    "def process_sleep_data(sleep_data: dict) -> dict:\n",
    "    stage_data = defaultdict(dict)\n",
    "\n",
    "    for data in sleep_data:\n",
    "        if data['stage'] in ['Awake', 'REM', 'Core', 'Deep']:\n",
    "            start_time = parse_time(data['start_time'])\n",
    "            end_time = parse_time(data['end_time'])\n",
    "            date = end_time.strftime('%Y-%m-%d')\n",
    "\n",
    "            if not date in stage_data: stage_data[date]['stages'] = list()\n",
    "            stage_data[date]['stages'].append({\n",
    "                'start_time': start_time,\n",
    "                'end_time': end_time,\n",
    "                'stage': STAGE[data['stage']]\n",
    "            })\n",
    "\n",
    "    for date, data in stage_data.items():\n",
    "        stage_data[date]['stages'] = sorted(data['stages'], key=lambda x: x['start_time'])\n",
    "        stage_data[date]['start_time'] = stage_data[date]['stages'][0]['start_time']\n",
    "        stage_data[date]['end_time'] = stage_data[date]['stages'][-1]['end_time']\n",
    "        stage_data[date]['day_of_week'] = stage_data[date]['start_time'].weekday()\n",
    "\n",
    "    return stage_data\n",
    "\n",
    "def post_process(stage_data: dict) -> pd.DataFrame:\n",
    "    ml_data = list()\n",
    "    for date, data in stage_data.items():\n",
    "        for item in data['stages']:\n",
    "            start_time = to_min(item['start_time'], data['start_time'])\n",
    "            end_time = to_min(item['end_time'], data['start_time'])\n",
    "            for time in range(start_time, end_time):\n",
    "                ml_data.append((\n",
    "                    date,\n",
    "                    data['day_of_week'],\n",
    "                    time,\n",
    "                    item['stage']\n",
    "                ))\n",
    "    return pd.DataFrame(ml_data, columns=['date', 'day_of_week', 'time', 'stage'])"
   ]
  },
  {
   "cell_type": "code",
   "execution_count": 22,
   "id": "67a4d527-6c28-48b1-8951-97c9258493d6",
   "metadata": {},
   "outputs": [
    {
     "name": "stdout",
     "output_type": "stream",
     "text": [
      "4    109175\n",
      "3     53845\n",
      "5     27051\n",
      "1      4937\n",
      "Name: stage, dtype: int64\n",
      "1    30793\n",
      "0    29565\n",
      "4    29299\n",
      "2    28885\n",
      "3    27739\n",
      "6    26211\n",
      "5    22516\n",
      "Name: day_of_week, dtype: int64\n",
      "813\n"
     ]
    },
    {
     "data": {
      "text/html": [
       "<div>\n",
       "<style scoped>\n",
       "    .dataframe tbody tr th:only-of-type {\n",
       "        vertical-align: middle;\n",
       "    }\n",
       "\n",
       "    .dataframe tbody tr th {\n",
       "        vertical-align: top;\n",
       "    }\n",
       "\n",
       "    .dataframe thead th {\n",
       "        text-align: right;\n",
       "    }\n",
       "</style>\n",
       "<table border=\"1\" class=\"dataframe\">\n",
       "  <thead>\n",
       "    <tr style=\"text-align: right;\">\n",
       "      <th></th>\n",
       "      <th>date</th>\n",
       "      <th>day_of_week</th>\n",
       "      <th>time</th>\n",
       "      <th>stage</th>\n",
       "    </tr>\n",
       "  </thead>\n",
       "  <tbody>\n",
       "    <tr>\n",
       "      <th>0</th>\n",
       "      <td>2024-02-20</td>\n",
       "      <td>1</td>\n",
       "      <td>0</td>\n",
       "      <td>4</td>\n",
       "    </tr>\n",
       "    <tr>\n",
       "      <th>1</th>\n",
       "      <td>2024-02-20</td>\n",
       "      <td>1</td>\n",
       "      <td>1</td>\n",
       "      <td>4</td>\n",
       "    </tr>\n",
       "    <tr>\n",
       "      <th>2</th>\n",
       "      <td>2024-02-20</td>\n",
       "      <td>1</td>\n",
       "      <td>2</td>\n",
       "      <td>4</td>\n",
       "    </tr>\n",
       "    <tr>\n",
       "      <th>3</th>\n",
       "      <td>2024-02-20</td>\n",
       "      <td>1</td>\n",
       "      <td>3</td>\n",
       "      <td>4</td>\n",
       "    </tr>\n",
       "    <tr>\n",
       "      <th>4</th>\n",
       "      <td>2024-02-20</td>\n",
       "      <td>1</td>\n",
       "      <td>4</td>\n",
       "      <td>4</td>\n",
       "    </tr>\n",
       "    <tr>\n",
       "      <th>...</th>\n",
       "      <td>...</td>\n",
       "      <td>...</td>\n",
       "      <td>...</td>\n",
       "      <td>...</td>\n",
       "    </tr>\n",
       "    <tr>\n",
       "      <th>195003</th>\n",
       "      <td>2022-09-13</td>\n",
       "      <td>1</td>\n",
       "      <td>279</td>\n",
       "      <td>4</td>\n",
       "    </tr>\n",
       "    <tr>\n",
       "      <th>195004</th>\n",
       "      <td>2022-09-13</td>\n",
       "      <td>1</td>\n",
       "      <td>280</td>\n",
       "      <td>4</td>\n",
       "    </tr>\n",
       "    <tr>\n",
       "      <th>195005</th>\n",
       "      <td>2022-09-13</td>\n",
       "      <td>1</td>\n",
       "      <td>281</td>\n",
       "      <td>4</td>\n",
       "    </tr>\n",
       "    <tr>\n",
       "      <th>195006</th>\n",
       "      <td>2022-09-13</td>\n",
       "      <td>1</td>\n",
       "      <td>282</td>\n",
       "      <td>4</td>\n",
       "    </tr>\n",
       "    <tr>\n",
       "      <th>195007</th>\n",
       "      <td>2022-09-13</td>\n",
       "      <td>1</td>\n",
       "      <td>283</td>\n",
       "      <td>4</td>\n",
       "    </tr>\n",
       "  </tbody>\n",
       "</table>\n",
       "<p>195008 rows × 4 columns</p>\n",
       "</div>"
      ],
      "text/plain": [
       "              date  day_of_week  time  stage\n",
       "0       2024-02-20            1     0      4\n",
       "1       2024-02-20            1     1      4\n",
       "2       2024-02-20            1     2      4\n",
       "3       2024-02-20            1     3      4\n",
       "4       2024-02-20            1     4      4\n",
       "...            ...          ...   ...    ...\n",
       "195003  2022-09-13            1   279      4\n",
       "195004  2022-09-13            1   280      4\n",
       "195005  2022-09-13            1   281      4\n",
       "195006  2022-09-13            1   282      4\n",
       "195007  2022-09-13            1   283      4\n",
       "\n",
       "[195008 rows x 4 columns]"
      ]
     },
     "execution_count": 22,
     "metadata": {},
     "output_type": "execute_result"
    }
   ],
   "source": [
    "data = load_json('./sleepData.json')\n",
    "data = data['sleep_data']\n",
    "\n",
    "stage_data = process_sleep_data(data)\n",
    "ml_data = post_process(stage_data)\n",
    "\n",
    "print(ml_data['stage'].value_counts())\n",
    "print(ml_data['day_of_week'].value_counts())\n",
    "print(max(ml_data['time']))\n",
    "ml_data"
   ]
  },
  {
   "cell_type": "code",
   "execution_count": 23,
   "id": "80d0f767-528f-450e-b38e-12c634692b62",
   "metadata": {},
   "outputs": [],
   "source": [
    "X = ml_data[['time', 'day_of_week']].values\n",
    "Y = ml_data['stage'].values\n",
    "# print(X)\n",
    "# print(Y)\n",
    "\n",
    "X_train, X_test, Y_train, Y_test = train_test_split(X, Y, test_size=0.2, stratify=Y, random_state=42)\n",
    "# print(X_train)\n",
    "# print(Y_train)\n",
    "\n",
    "# smote = SMOTE()\n",
    "# X_train_sm, Y_train_sm = smote.fit_resample(X_train, Y_train)\n",
    "# print(X_train_sm)\n",
    "# print(Y_train_sm)"
   ]
  },
  {
   "cell_type": "code",
   "execution_count": 24,
   "id": "652763bb-6ae7-4246-93fe-68f7778a1245",
   "metadata": {},
   "outputs": [
    {
     "data": {
      "text/plain": [
       "RandomForestClassifier(bootstrap=True, class_weight='balanced',\n",
       "            criterion='gini', max_depth=None, max_features='auto',\n",
       "            max_leaf_nodes=None, min_impurity_decrease=0.0,\n",
       "            min_impurity_split=None, min_samples_leaf=1,\n",
       "            min_samples_split=2, min_weight_fraction_leaf=0.0,\n",
       "            n_estimators=10, n_jobs=1, oob_score=False, random_state=42,\n",
       "            verbose=0, warm_start=False)"
      ]
     },
     "execution_count": 24,
     "metadata": {},
     "output_type": "execute_result"
    }
   ],
   "source": [
    "model = RandomForestClassifier(class_weight='balanced', random_state=42)\n",
    "# model.fit(X_train_sm, Y_train_sm)\n",
    "model.fit(X_train, Y_train)"
   ]
  },
  {
   "cell_type": "code",
   "execution_count": 25,
   "id": "5d661d22-461c-4752-a5e1-e9ab7bfd7d63",
   "metadata": {},
   "outputs": [
    {
     "name": "stdout",
     "output_type": "stream",
     "text": [
      "Accuracy: 0.36931439413363415\n",
      "Classification Report:\n",
      "              precision    recall  f1-score   support\n",
      "\n",
      "          1       0.04      0.30      0.06       988\n",
      "          3       0.40      0.50      0.45     10769\n",
      "          4       0.66      0.23      0.35     21835\n",
      "          5       0.38      0.68      0.49      5410\n",
      "\n",
      "avg / total       0.54      0.37      0.39     39002\n",
      "\n"
     ]
    }
   ],
   "source": [
    "# Predict on the test set\n",
    "Y_pred = model.predict(X_test)\n",
    "\n",
    "# Evaluate the model\n",
    "print(\"Accuracy:\", accuracy_score(Y_test, Y_pred))\n",
    "print(\"Classification Report:\\n\", classification_report(Y_test, Y_pred))"
   ]
  },
  {
   "cell_type": "code",
   "execution_count": 26,
   "id": "ec8ec804",
   "metadata": {},
   "outputs": [
    {
     "name": "stdout",
     "output_type": "stream",
     "text": [
      "[4 1 1 4 1 1 1 1 4 4 4 4 4 4 5 5 5 5 5 5 5 5 5 5 5 5 5 5 5 5 5 5 5 5 5 5 5\n",
      " 5 5 5 5 5 5 5 5 5 5 5 5 5 5 5 5 5 5 5 5 5 5 5 5 5 5 5 5 5 5 5 5 5 5 5 3 5\n",
      " 3 3 3 3 3 3 3 5 5 3 3 3 3 4 1 5 5 1 1 1 5 5 5 5 1 5 5 1 1 5 5 1 5 4 5 5 5\n",
      " 5 5 5 5 5 5 5 5 5 5 5 5 5 5 5 5 5 5 1 5 5 5 5 5 5 5 5 1 4 4 4 3 3 3 3 3 3\n",
      " 3 1 3 3 3 1 3 3 3 3 3 3 3 3 3 3 3 3 3 3 3 3 3 3 3 3 3 3 3 3 3 3 3 3 3 3 3\n",
      " 3 3 3 3 3 3 3 3 3 3 3 1 4 4 3 4 3 3 4 3 4 4 4 4 4 4 4 4 1 4 4 4 4 4 4 4 1\n",
      " 1 4 1 4 4 4 4 4 5 4 4 4 4 4 4 4 4 4 1 4 4 4 4 1 1 4 4 4 4 1 4 4 1 4 1 3 1\n",
      " 1 3 1 3 3 3 1 3 3 1 3 1 1 1 3 3 3 3 3 1 3 3 3 1 3 3 1 3 3 1 1 1 3 1 1 3 3\n",
      " 3 4 3 3 3 3 3 3 4 1 3 4 3 4 4 4 4 4 4 4 4 4 4 1 4 4 1 4 4 4 4 3 1 4 4 4 1\n",
      " 1 4 1 4 1 3 3 1 3 3 3 3 3 1 1 3 3 3 3 3 3 3 3 3 3 3 1 1 3 1 1 1 1 1 1 1 1\n",
      " 3 3 3 1 1 1 1 1 3 3 3 3 3 3 3 3 1 1 3 3 1 1 1 1 1 4 1 1 1 3 1 1 1 1 1 1 1\n",
      " 3 1 1 1 1 1 1 1 1 1 1 1 1 4 4 1 1 1 1 4 1 1 1 1 1 1 1 4 3 1 1 1 1 1 1 1 1\n",
      " 1 3 1 1 1 3 3 3 1 3 3 3 3 3 3 3 3 3 3 1 1 1 1 3 3 3 3 3 3 3 3 3 3 3 3 3]\n"
     ]
    },
    {
     "data": {
      "text/plain": [
       "[<matplotlib.lines.Line2D at 0x7fe3ab1b1e10>,\n",
       " <matplotlib.lines.Line2D at 0x7fe3ab1b1e80>]"
      ]
     },
     "execution_count": 26,
     "metadata": {},
     "output_type": "execute_result"
    },
    {
     "data": {
      "image/png": "[encoded data removed]",
      "text/plain": [
       "<Figure size 432x288 with 1 Axes>"
      ]
     },
     "metadata": {
      "needs_background": "light"
     },
     "output_type": "display_data"
    }
   ],
   "source": [
    "dow = 2\n",
    "X_sample = [[i, dow] for i in range(8*60)]\n",
    "Y_sample = model.predict(X_sample)\n",
    "print(Y_sample)\n",
    "\n",
    "plt.plot(X_sample, Y_sample)"
   ]
  },
  {
   "cell_type": "code",
   "execution_count": 27,
   "id": "8fa6a89f",
   "metadata": {},
   "outputs": [],
   "source": [
    "with open('SleepStageRandomForest.pkl', 'wb') as file:\n",
    "    pickle.dump(model, file)"
   ]
  },
  {
   "cell_type": "code",
   "execution_count": 28,
   "id": "96d38a83-7f04-41da-b093-1c64b8d9e9a6",
   "metadata": {},
   "outputs": [],
   "source": [
    "# Convert the model\n",
    "coreml_model = ct.converters.sklearn.convert(model, input_features=['time', 'day_of_week'], output_feature_names='sleep_stage')\n",
    "\n",
    "# Save the model\n",
    "coreml_model.save(\"SleepStageRandomForest.mlmodel\")\n",
    "# coreml_model.save(\"SleepStageRandomForest.mlpackage\")\n",
    "\n",
    "# Loading the model\n",
    "# with open('my_random_forest_model.pkl', 'rb') as file:\n",
    "#     best_model_loaded = pickle.load(file)"
   ]
  },
  {
   "cell_type": "code",
   "execution_count": null,
   "id": "4cf6e61d",
   "metadata": {},
   "outputs": [],
   "source": []
  }
 ],
 "metadata": {
  "kernelspec": {
   "display_name": "Python 3",
   "language": "python",
   "name": "python3"
  },
  "language_info": {
   "codemirror_mode": {
    "name": "ipython",
    "version": 3
   },
   "file_extension": ".py",
   "mimetype": "text/x-python",
   "name": "python",
   "nbconvert_exporter": "python",
   "pygments_lexer": "ipython3",
   "version": "3.6.13"
  }
 },
 "nbformat": 4,
 "nbformat_minor": 5
}
