{
 "cells": [
  {
   "cell_type": "code",
   "execution_count": 1,
   "id": "e4274587-a732-4ab7-b06e-50ca6c547a72",
   "metadata": {},
   "outputs": [],
   "source": [
    "# ! pip install imbalanced-learn\n",
    "# ! pip install --force-reinstall 'scikit-learn==0.19.2' \n",
    "# ! pip install pickle-mixin\n",
    "# ! pip install --force-reinstall 'scikit-learn==0.19.2' "
   ]
  },
  {
   "cell_type": "code",
   "execution_count": 2,
   "id": "1b65b8e5-c1bd-4adc-b798-be6e527e65bc",
   "metadata": {},
   "outputs": [
    {
     "name": "stderr",
     "output_type": "stream",
     "text": [
      "scikit-learn version 1.2.2 is not supported. Minimum required version: 0.17. Maximum required version: 1.1.2. Disabling scikit-learn conversion API.\n",
      "TensorFlow version 2.14.0 has not been tested with coremltools. You may run into unexpected errors. TensorFlow 2.12.0 is the most recent version that has been tested.\n"
     ]
    }
   ],
   "source": [
    "import math\n",
    "import json\n",
    "import pickle\n",
    "import numpy as np\n",
    "import pandas as pd\n",
    "import coremltools as ct\n",
    "import matplotlib.pyplot as plt\n",
    "from datetime import datetime\n",
    "from collections import defaultdict\n",
    "\n",
    "from sklearn.tree import _tree\n",
    "from sklearn.ensemble import RandomForestClassifier\n",
    "from sklearn.metrics import classification_report, accuracy_score\n",
    "from sklearn.model_selection import train_test_split\n",
    "from imblearn.over_sampling import SMOTE"
   ]
  },
  {
   "cell_type": "code",
   "execution_count": 3,
   "id": "8def0a8c-fcd1-4b86-a8b7-645a6bf7f00e",
   "metadata": {},
   "outputs": [],
   "source": [
    "STAGE = {\n",
    "    'In Bed': 0,\n",
    "    'Awake': 1,\n",
    "    'Asleep': 2,\n",
    "    'REM': 3,\n",
    "    'Core': 4,\n",
    "    'Deep': 5,\n",
    "    'Unknown': 6\n",
    "}"
   ]
  },
  {
   "cell_type": "code",
   "execution_count": 4,
   "id": "643e7bb3-acb1-4a09-9c87-e28014b6da73",
   "metadata": {},
   "outputs": [],
   "source": [
    "def load_json(path: str) -> dict:\n",
    "    with open(path, 'r') as file:\n",
    "        return json.load(file)\n",
    "\n",
    "def parse_time(time: str) -> datetime:\n",
    "    return datetime.strptime(time, '%Y-%m-%d %H:%M:%S')\n",
    "\n",
    "def to_min(cur_time: datetime, start_time: datetime) -> int:\n",
    "    return int((cur_time - start_time).total_seconds()//60)\n",
    "\n",
    "def process_sleep_data(sleep_data: dict) -> dict:\n",
    "    stage_data = defaultdict(dict)\n",
    "\n",
    "    for data in sleep_data:\n",
    "        if data['stage'] in ['Awake', 'REM', 'Core', 'Deep']:\n",
    "            start_time = parse_time(data['start_time'])\n",
    "            end_time = parse_time(data['end_time'])\n",
    "            date = end_time.strftime('%Y-%m-%d')\n",
    "\n",
    "            if not date in stage_data: stage_data[date]['stages'] = list()\n",
    "            stage_data[date]['stages'].append({\n",
    "                'start_time': start_time,\n",
    "                'end_time': end_time,\n",
    "                'stage': STAGE[data['stage']]\n",
    "            })\n",
    "\n",
    "    for date, data in stage_data.items():\n",
    "        stage_data[date]['stages'] = sorted(data['stages'], key=lambda x: x['start_time'])\n",
    "        stage_data[date]['start_time'] = stage_data[date]['stages'][0]['start_time']\n",
    "        stage_data[date]['end_time'] = stage_data[date]['stages'][-1]['end_time']\n",
    "        stage_data[date]['day_of_week'] = stage_data[date]['start_time'].weekday()\n",
    "\n",
    "    return stage_data\n",
    "\n",
    "def post_process(stage_data: dict) -> pd.DataFrame:\n",
    "    ml_data = list()\n",
    "    for date, data in stage_data.items():\n",
    "        for item in data['stages']:\n",
    "            start_time = to_min(item['start_time'], data['start_time'])\n",
    "            end_time = to_min(item['end_time'], data['start_time'])\n",
    "            for time in range(start_time, end_time):\n",
    "                ml_data.append((\n",
    "                    date,\n",
    "                    data['day_of_week'],\n",
    "                    time,\n",
    "                    item['stage']\n",
    "                ))\n",
    "    return pd.DataFrame(ml_data, columns=['date', 'day_of_week', 'time', 'stage'])"
   ]
  },
  {
   "cell_type": "code",
   "execution_count": 5,
   "id": "67a4d527-6c28-48b1-8951-97c9258493d6",
   "metadata": {},
   "outputs": [
    {
     "name": "stdout",
     "output_type": "stream",
     "text": [
      "stage\n",
      "4    109175\n",
      "3     53845\n",
      "5     27051\n",
      "1      4937\n",
      "Name: count, dtype: int64\n",
      "day_of_week\n",
      "1    30793\n",
      "0    29565\n",
      "4    29299\n",
      "2    28885\n",
      "3    27739\n",
      "6    26211\n",
      "5    22516\n",
      "Name: count, dtype: int64\n",
      "813\n"
     ]
    },
    {
     "data": {
      "text/html": [
       "<div>\n",
       "<style scoped>\n",
       "    .dataframe tbody tr th:only-of-type {\n",
       "        vertical-align: middle;\n",
       "    }\n",
       "\n",
       "    .dataframe tbody tr th {\n",
       "        vertical-align: top;\n",
       "    }\n",
       "\n",
       "    .dataframe thead th {\n",
       "        text-align: right;\n",
       "    }\n",
       "</style>\n",
       "<table border=\"1\" class=\"dataframe\">\n",
       "  <thead>\n",
       "    <tr style=\"text-align: right;\">\n",
       "      <th></th>\n",
       "      <th>date</th>\n",
       "      <th>day_of_week</th>\n",
       "      <th>time</th>\n",
       "      <th>stage</th>\n",
       "    </tr>\n",
       "  </thead>\n",
       "  <tbody>\n",
       "    <tr>\n",
       "      <th>0</th>\n",
       "      <td>2024-02-20</td>\n",
       "      <td>1</td>\n",
       "      <td>0</td>\n",
       "      <td>4</td>\n",
       "    </tr>\n",
       "    <tr>\n",
       "      <th>1</th>\n",
       "      <td>2024-02-20</td>\n",
       "      <td>1</td>\n",
       "      <td>1</td>\n",
       "      <td>4</td>\n",
       "    </tr>\n",
       "    <tr>\n",
       "      <th>2</th>\n",
       "      <td>2024-02-20</td>\n",
       "      <td>1</td>\n",
       "      <td>2</td>\n",
       "      <td>4</td>\n",
       "    </tr>\n",
       "    <tr>\n",
       "      <th>3</th>\n",
       "      <td>2024-02-20</td>\n",
       "      <td>1</td>\n",
       "      <td>3</td>\n",
       "      <td>4</td>\n",
       "    </tr>\n",
       "    <tr>\n",
       "      <th>4</th>\n",
       "      <td>2024-02-20</td>\n",
       "      <td>1</td>\n",
       "      <td>4</td>\n",
       "      <td>4</td>\n",
       "    </tr>\n",
       "    <tr>\n",
       "      <th>...</th>\n",
       "      <td>...</td>\n",
       "      <td>...</td>\n",
       "      <td>...</td>\n",
       "      <td>...</td>\n",
       "    </tr>\n",
       "    <tr>\n",
       "      <th>195003</th>\n",
       "      <td>2022-09-13</td>\n",
       "      <td>1</td>\n",
       "      <td>279</td>\n",
       "      <td>4</td>\n",
       "    </tr>\n",
       "    <tr>\n",
       "      <th>195004</th>\n",
       "      <td>2022-09-13</td>\n",
       "      <td>1</td>\n",
       "      <td>280</td>\n",
       "      <td>4</td>\n",
       "    </tr>\n",
       "    <tr>\n",
       "      <th>195005</th>\n",
       "      <td>2022-09-13</td>\n",
       "      <td>1</td>\n",
       "      <td>281</td>\n",
       "      <td>4</td>\n",
       "    </tr>\n",
       "    <tr>\n",
       "      <th>195006</th>\n",
       "      <td>2022-09-13</td>\n",
       "      <td>1</td>\n",
       "      <td>282</td>\n",
       "      <td>4</td>\n",
       "    </tr>\n",
       "    <tr>\n",
       "      <th>195007</th>\n",
       "      <td>2022-09-13</td>\n",
       "      <td>1</td>\n",
       "      <td>283</td>\n",
       "      <td>4</td>\n",
       "    </tr>\n",
       "  </tbody>\n",
       "</table>\n",
       "<p>195008 rows × 4 columns</p>\n",
       "</div>"
      ],
      "text/plain": [
       "              date  day_of_week  time  stage\n",
       "0       2024-02-20            1     0      4\n",
       "1       2024-02-20            1     1      4\n",
       "2       2024-02-20            1     2      4\n",
       "3       2024-02-20            1     3      4\n",
       "4       2024-02-20            1     4      4\n",
       "...            ...          ...   ...    ...\n",
       "195003  2022-09-13            1   279      4\n",
       "195004  2022-09-13            1   280      4\n",
       "195005  2022-09-13            1   281      4\n",
       "195006  2022-09-13            1   282      4\n",
       "195007  2022-09-13            1   283      4\n",
       "\n",
       "[195008 rows x 4 columns]"
      ]
     },
     "execution_count": 5,
     "metadata": {},
     "output_type": "execute_result"
    }
   ],
   "source": [
    "data = load_json('./sleepData.json')\n",
    "data = data['sleep_data']\n",
    "\n",
    "stage_data = process_sleep_data(data)\n",
    "ml_data = post_process(stage_data)\n",
    "\n",
    "print(ml_data['stage'].value_counts())\n",
    "print(ml_data['day_of_week'].value_counts())\n",
    "print(max(ml_data['time']))\n",
    "ml_data"
   ]
  },
  {
   "cell_type": "code",
   "execution_count": 6,
   "id": "80d0f767-528f-450e-b38e-12c634692b62",
   "metadata": {},
   "outputs": [],
   "source": [
    "X = ml_data[['time', 'day_of_week']].values\n",
    "Y = ml_data['stage'].values\n",
    "# print(X)\n",
    "# print(Y)\n",
    "\n",
    "X_train, X_test, Y_train, Y_test = train_test_split(X, Y, test_size=0.2, stratify=Y, random_state=42)\n",
    "# print(X_train)\n",
    "# print(Y_train)\n",
    "\n",
    "# smote = SMOTE()\n",
    "# X_train_sm, Y_train_sm = smote.fit_resample(X_train, Y_train)\n",
    "# print(X_train_sm)\n",
    "# print(Y_train_sm)"
   ]
  },
  {
   "cell_type": "code",
   "execution_count": 7,
   "id": "652763bb-6ae7-4246-93fe-68f7778a1245",
   "metadata": {},
   "outputs": [
    {
     "data": {
      "text/html": [
       "<style>#sk-container-id-1 {color: black;background-color: white;}#sk-container-id-1 pre{padding: 0;}#sk-container-id-1 div.sk-toggleable {background-color: white;}#sk-container-id-1 label.sk-toggleable__label {cursor: pointer;display: block;width: 100%;margin-bottom: 0;padding: 0.3em;box-sizing: border-box;text-align: center;}#sk-container-id-1 label.sk-toggleable__label-arrow:before {content: \"▸\";float: left;margin-right: 0.25em;color: #696969;}#sk-container-id-1 label.sk-toggleable__label-arrow:hover:before {color: black;}#sk-container-id-1 div.sk-estimator:hover label.sk-toggleable__label-arrow:before {color: black;}#sk-container-id-1 div.sk-toggleable__content {max-height: 0;max-width: 0;overflow: hidden;text-align: left;background-color: #f0f8ff;}#sk-container-id-1 div.sk-toggleable__content pre {margin: 0.2em;color: black;border-radius: 0.25em;background-color: #f0f8ff;}#sk-container-id-1 input.sk-toggleable__control:checked~div.sk-toggleable__content {max-height: 200px;max-width: 100%;overflow: auto;}#sk-container-id-1 input.sk-toggleable__control:checked~label.sk-toggleable__label-arrow:before {content: \"▾\";}#sk-container-id-1 div.sk-estimator input.sk-toggleable__control:checked~label.sk-toggleable__label {background-color: #d4ebff;}#sk-container-id-1 div.sk-label input.sk-toggleable__control:checked~label.sk-toggleable__label {background-color: #d4ebff;}#sk-container-id-1 input.sk-hidden--visually {border: 0;clip: rect(1px 1px 1px 1px);clip: rect(1px, 1px, 1px, 1px);height: 1px;margin: -1px;overflow: hidden;padding: 0;position: absolute;width: 1px;}#sk-container-id-1 div.sk-estimator {font-family: monospace;background-color: #f0f8ff;border: 1px dotted black;border-radius: 0.25em;box-sizing: border-box;margin-bottom: 0.5em;}#sk-container-id-1 div.sk-estimator:hover {background-color: #d4ebff;}#sk-container-id-1 div.sk-parallel-item::after {content: \"\";width: 100%;border-bottom: 1px solid gray;flex-grow: 1;}#sk-container-id-1 div.sk-label:hover label.sk-toggleable__label {background-color: #d4ebff;}#sk-container-id-1 div.sk-serial::before {content: \"\";position: absolute;border-left: 1px solid gray;box-sizing: border-box;top: 0;bottom: 0;left: 50%;z-index: 0;}#sk-container-id-1 div.sk-serial {display: flex;flex-direction: column;align-items: center;background-color: white;padding-right: 0.2em;padding-left: 0.2em;position: relative;}#sk-container-id-1 div.sk-item {position: relative;z-index: 1;}#sk-container-id-1 div.sk-parallel {display: flex;align-items: stretch;justify-content: center;background-color: white;position: relative;}#sk-container-id-1 div.sk-item::before, #sk-container-id-1 div.sk-parallel-item::before {content: \"\";position: absolute;border-left: 1px solid gray;box-sizing: border-box;top: 0;bottom: 0;left: 50%;z-index: -1;}#sk-container-id-1 div.sk-parallel-item {display: flex;flex-direction: column;z-index: 1;position: relative;background-color: white;}#sk-container-id-1 div.sk-parallel-item:first-child::after {align-self: flex-end;width: 50%;}#sk-container-id-1 div.sk-parallel-item:last-child::after {align-self: flex-start;width: 50%;}#sk-container-id-1 div.sk-parallel-item:only-child::after {width: 0;}#sk-container-id-1 div.sk-dashed-wrapped {border: 1px dashed gray;margin: 0 0.4em 0.5em 0.4em;box-sizing: border-box;padding-bottom: 0.4em;background-color: white;}#sk-container-id-1 div.sk-label label {font-family: monospace;font-weight: bold;display: inline-block;line-height: 1.2em;}#sk-container-id-1 div.sk-label-container {text-align: center;}#sk-container-id-1 div.sk-container {/* jupyter's `normalize.less` sets `[hidden] { display: none; }` but bootstrap.min.css set `[hidden] { display: none !important; }` so we also need the `!important` here to be able to override the default hidden behavior on the sphinx rendered scikit-learn.org. See: https://github.com/scikit-learn/scikit-learn/issues/21755 */display: inline-block !important;position: relative;}#sk-container-id-1 div.sk-text-repr-fallback {display: none;}</style><div id=\"sk-container-id-1\" class=\"sk-top-container\"><div class=\"sk-text-repr-fallback\"><pre>RandomForestClassifier(random_state=42)</pre><b>In a Jupyter environment, please rerun this cell to show the HTML representation or trust the notebook. <br />On GitHub, the HTML representation is unable to render, please try loading this page with nbviewer.org.</b></div><div class=\"sk-container\" hidden><div class=\"sk-item\"><div class=\"sk-estimator sk-toggleable\"><input class=\"sk-toggleable__control sk-hidden--visually\" id=\"sk-estimator-id-1\" type=\"checkbox\" checked><label for=\"sk-estimator-id-1\" class=\"sk-toggleable__label sk-toggleable__label-arrow\">RandomForestClassifier</label><div class=\"sk-toggleable__content\"><pre>RandomForestClassifier(random_state=42)</pre></div></div></div></div></div>"
      ],
      "text/plain": [
       "RandomForestClassifier(random_state=42)"
      ]
     },
     "execution_count": 7,
     "metadata": {},
     "output_type": "execute_result"
    }
   ],
   "source": [
    "model = RandomForestClassifier(random_state=42)\n",
    "# model.fit(X_train_sm, Y_train_sm)\n",
    "model.fit(X_train, Y_train)"
   ]
  },
  {
   "cell_type": "code",
   "execution_count": 8,
   "id": "5d661d22-461c-4752-a5e1-e9ab7bfd7d63",
   "metadata": {},
   "outputs": [
    {
     "name": "stdout",
     "output_type": "stream",
     "text": [
      "Accuracy: 0.582662427567817\n",
      "Classification Report:\n",
      "               precision    recall  f1-score   support\n",
      "\n",
      "           1       0.25      0.00      0.00       988\n",
      "           3       0.47      0.20      0.28     10769\n",
      "           4       0.60      0.85      0.70     21835\n",
      "           5       0.61      0.38      0.47      5410\n",
      "\n",
      "    accuracy                           0.58     39002\n",
      "   macro avg       0.48      0.36      0.36     39002\n",
      "weighted avg       0.55      0.58      0.53     39002\n",
      "\n"
     ]
    }
   ],
   "source": [
    "# Predict on the test set\n",
    "Y_pred = model.predict(X_test)\n",
    "\n",
    "# Evaluate the model\n",
    "print(\"Accuracy:\", accuracy_score(Y_test, Y_pred))\n",
    "print(\"Classification Report:\\n\", classification_report(Y_test, Y_pred))"
   ]
  },
  {
   "cell_type": "code",
   "execution_count": 9,
   "id": "ec8ec804",
   "metadata": {},
   "outputs": [
    {
     "name": "stdout",
     "output_type": "stream",
     "text": [
      "[4 4 4 4 4 4 4 4 4 4 4 4 4 4 4 4 4 5 5 5 5 5 5 5 5 5 5 5 5 5 5 5 5 5 5 5 5\n",
      " 5 5 5 5 5 5 5 5 5 5 5 5 5 5 5 5 5 5 4 4 4 5 4 4 4 4 4 4 4 4 4 4 4 4 4 3 4\n",
      " 4 4 4 4 4 4 4 4 3 4 4 4 4 4 4 4 4 4 4 4 4 4 4 4 4 4 4 4 4 4 4 4 4 4 4 4 4\n",
      " 4 4 4 4 4 4 4 4 5 4 4 4 4 4 4 4 4 4 4 4 4 4 4 4 4 4 4 4 4 4 4 4 4 4 4 4 4\n",
      " 4 4 4 4 4 4 4 3 3 3 3 3 3 3 3 3 3 3 3 3 3 3 3 3 3 3 3 3 3 4 4 4 4 4 4 4 4\n",
      " 3 4 4 4 4 4 4 4 4 4 4 4 4 4 4 4 4 4 4 4 4 4 4 4 4 4 4 4 4 4 4 4 4 4 4 4 4\n",
      " 4 4 4 4 4 4 4 4 4 4 4 4 4 4 4 4 4 4 4 4 4 4 4 4 4 4 4 4 4 4 4 4 4 4 4 4 4\n",
      " 4 4 4 4 4 4 4 4 4 4 4 4 4 4 4 4 4 4 4 4 4 4 4 4 4 4 4 4 4 4 4 4 4 4 4 4 4\n",
      " 4 4 4 4 4 4 4 4 4 4 4 4 4 4 4 4 4 4 4 4 4 4 4 4 4 4 4 4 4 4 4 4 4 4 4 4 4\n",
      " 4 4 4 4 4 4 4 4 4 4 4 4 4 4 4 4 4 4 4 4 4 4 4 4 4 4 4 4 4 4 4 4 4 4 4 4 4\n",
      " 4 4 4 4 4 4 4 4 4 3 4 3 4 4 3 4 4 4 4 4 4 3 4 4 4 4 4 4 4 4 4 4 4 4 4 4 4\n",
      " 4 4 4 4 4 4 4 4 4 4 4 4 4 4 4 4 4 4 4 4 4 4 4 4 4 4 4 4 4 4 4 4 4 4 3 4 4\n",
      " 4 4 4 3 3 4 3 3 3 3 3 4 4 4 3 3 3 3 3 3 3 3 4 3 3 3 3 4 3 3 3 3 3 3 3 3]\n",
      "4    383\n",
      "3     57\n",
      "5     40\n",
      "Name: count, dtype: int64\n"
     ]
    },
    {
     "data": {
      "text/plain": [
       "[<matplotlib.lines.Line2D at 0x31f149dd0>,\n",
       " <matplotlib.lines.Line2D at 0x3203ca7d0>]"
      ]
     },
     "execution_count": 9,
     "metadata": {},
     "output_type": "execute_result"
    },
    {
     "data": {
      "image/png": "[encoded data removed]",
      "text/plain": [
       "<Figure size 640x480 with 1 Axes>"
      ]
     },
     "metadata": {},
     "output_type": "display_data"
    }
   ],
   "source": [
    "dow = 2\n",
    "X_sample = [[i, dow] for i in range(8*60)]\n",
    "Y_sample = model.predict(X_sample)\n",
    "print(Y_sample)\n",
    "\n",
    "print(pd.Series(Y_sample).value_counts())\n",
    "plt.plot(X_sample, Y_sample)"
   ]
  },
  {
   "cell_type": "code",
   "execution_count": 10,
   "id": "8fa6a89f",
   "metadata": {},
   "outputs": [],
   "source": [
    "with open('SleepStageRandomForest.pkl', 'wb') as file:\n",
    "    pickle.dump(model, file)"
   ]
  },
  {
   "cell_type": "code",
   "execution_count": 11,
   "id": "96d38a83-7f04-41da-b093-1c64b8d9e9a6",
   "metadata": {},
   "outputs": [
    {
     "ename": "NameError",
     "evalue": "name '_tree' is not defined",
     "output_type": "error",
     "traceback": [
      "\u001b[0;31m---------------------------------------------------------------------------\u001b[0m",
      "\u001b[0;31mNameError\u001b[0m                                 Traceback (most recent call last)",
      "Cell \u001b[0;32mIn[11], line 2\u001b[0m\n\u001b[1;32m      1\u001b[0m \u001b[38;5;66;03m# Convert the model\u001b[39;00m\n\u001b[0;32m----> 2\u001b[0m coreml_model \u001b[38;5;241m=\u001b[39m \u001b[43mct\u001b[49m\u001b[38;5;241;43m.\u001b[39;49m\u001b[43mconverters\u001b[49m\u001b[38;5;241;43m.\u001b[39;49m\u001b[43msklearn\u001b[49m\u001b[38;5;241;43m.\u001b[39;49m\u001b[43mconvert\u001b[49m\u001b[43m(\u001b[49m\u001b[43mmodel\u001b[49m\u001b[43m,\u001b[49m\u001b[43m \u001b[49m\u001b[43minput_features\u001b[49m\u001b[38;5;241;43m=\u001b[39;49m\u001b[43m[\u001b[49m\u001b[38;5;124;43m'\u001b[39;49m\u001b[38;5;124;43mtime\u001b[39;49m\u001b[38;5;124;43m'\u001b[39;49m\u001b[43m,\u001b[49m\u001b[43m \u001b[49m\u001b[38;5;124;43m'\u001b[39;49m\u001b[38;5;124;43mday_of_week\u001b[39;49m\u001b[38;5;124;43m'\u001b[39;49m\u001b[43m]\u001b[49m\u001b[43m,\u001b[49m\u001b[43m \u001b[49m\u001b[43moutput_feature_names\u001b[49m\u001b[38;5;241;43m=\u001b[39;49m\u001b[38;5;124;43m'\u001b[39;49m\u001b[38;5;124;43msleep_stage\u001b[39;49m\u001b[38;5;124;43m'\u001b[39;49m\u001b[43m)\u001b[49m\n\u001b[1;32m      4\u001b[0m \u001b[38;5;66;03m# Save the model\u001b[39;00m\n\u001b[1;32m      5\u001b[0m coreml_model\u001b[38;5;241m.\u001b[39msave(\u001b[38;5;124m\"\u001b[39m\u001b[38;5;124mSleepStageRandomForest.mlmodel\u001b[39m\u001b[38;5;124m\"\u001b[39m)\n",
      "File \u001b[0;32m~/miniconda3/envs/test/lib/python3.11/site-packages/coremltools/converters/sklearn/_converter.py:148\u001b[0m, in \u001b[0;36mconvert\u001b[0;34m(sk_obj, input_features, output_feature_names)\u001b[0m\n\u001b[1;32m    144\u001b[0m \u001b[38;5;28;01mfrom\u001b[39;00m \u001b[38;5;21;01m.\u001b[39;00m\u001b[38;5;21;01m.\u001b[39;00m\u001b[38;5;21;01m.\u001b[39;00m\u001b[38;5;21;01mmodels\u001b[39;00m \u001b[38;5;28;01mimport\u001b[39;00m MLModel\n\u001b[1;32m    145\u001b[0m \u001b[38;5;66;03m# NOTE: Providing user-defined class labels will be enabled when\u001b[39;00m\n\u001b[1;32m    146\u001b[0m \u001b[38;5;66;03m# several issues with the ordering of the classes are worked out.  For now,\u001b[39;00m\n\u001b[1;32m    147\u001b[0m \u001b[38;5;66;03m# to use custom class labels, directly import the internal function below.\u001b[39;00m\n\u001b[0;32m--> 148\u001b[0m \u001b[38;5;28;01mfrom\u001b[39;00m \u001b[38;5;21;01m.\u001b[39;00m\u001b[38;5;21;01m_converter_internal\u001b[39;00m \u001b[38;5;28;01mimport\u001b[39;00m _convert_sklearn_model\n\u001b[1;32m    150\u001b[0m spec \u001b[38;5;241m=\u001b[39m _convert_sklearn_model(\n\u001b[1;32m    151\u001b[0m     sk_obj, input_features, output_feature_names, class_labels\u001b[38;5;241m=\u001b[39m\u001b[38;5;28;01mNone\u001b[39;00m\n\u001b[1;32m    152\u001b[0m )\n\u001b[1;32m    154\u001b[0m model \u001b[38;5;241m=\u001b[39m MLModel(spec)\n",
      "File \u001b[0;32m~/miniconda3/envs/test/lib/python3.11/site-packages/coremltools/converters/sklearn/_converter_internal.py:24\u001b[0m\n\u001b[1;32m     19\u001b[0m     \u001b[38;5;28;01mfrom\u001b[39;00m \u001b[38;5;21;01msklearn\u001b[39;00m\u001b[38;5;21;01m.\u001b[39;00m\u001b[38;5;21;01mpipeline\u001b[39;00m \u001b[38;5;28;01mimport\u001b[39;00m Pipeline \u001b[38;5;28;01mas\u001b[39;00m sk_Pipeline\n\u001b[1;32m     21\u001b[0m \u001b[38;5;28;01mfrom\u001b[39;00m \u001b[38;5;21;01mcollections\u001b[39;00m \u001b[38;5;28;01mimport\u001b[39;00m namedtuple \u001b[38;5;28;01mas\u001b[39;00m _namedtuple\n\u001b[0;32m---> 24\u001b[0m \u001b[38;5;28;01mfrom\u001b[39;00m \u001b[38;5;21;01m.\u001b[39;00m \u001b[38;5;28;01mimport\u001b[39;00m (_SVC, _SVR, _decision_tree_classifier, _decision_tree_regressor,\n\u001b[1;32m     25\u001b[0m                _dict_vectorizer, _gradient_boosting_classifier,\n\u001b[1;32m     26\u001b[0m                _gradient_boosting_regressor, _imputer, _k_neighbors_classifier,\n\u001b[1;32m     27\u001b[0m                _linear_regression, _LinearSVC, _LinearSVR,\n\u001b[1;32m     28\u001b[0m                _logistic_regression, _normalizer, _NuSVC, _NuSVR,\n\u001b[1;32m     29\u001b[0m                _one_hot_encoder, _random_forest_classifier,\n\u001b[1;32m     30\u001b[0m                _random_forest_regressor, _standard_scaler, _ridge_regression)\n\u001b[1;32m     32\u001b[0m _PIPELINE_INTERNAL_FEATURE_NAME \u001b[38;5;241m=\u001b[39m \u001b[38;5;124m\"\u001b[39m\u001b[38;5;124m__feature_vector__\u001b[39m\u001b[38;5;124m\"\u001b[39m\n\u001b[1;32m     34\u001b[0m _converter_module_list \u001b[38;5;241m=\u001b[39m [\n\u001b[1;32m     35\u001b[0m     _dict_vectorizer,\n\u001b[1;32m     36\u001b[0m     _one_hot_encoder,\n\u001b[0;32m   (...)\u001b[0m\n\u001b[1;32m     55\u001b[0m     _ridge_regression\n\u001b[1;32m     56\u001b[0m ]\n",
      "File \u001b[0;32m~/miniconda3/envs/test/lib/python3.11/site-packages/coremltools/converters/sklearn/_decision_tree_classifier.py:16\u001b[0m\n\u001b[1;32m     13\u001b[0m     \u001b[38;5;28;01mfrom\u001b[39;00m \u001b[38;5;21;01m.\u001b[39;00m \u001b[38;5;28;01mimport\u001b[39;00m _sklearn_util\n\u001b[1;32m     15\u001b[0m model_type \u001b[38;5;241m=\u001b[39m \u001b[38;5;124m\"\u001b[39m\u001b[38;5;124mclassifier\u001b[39m\u001b[38;5;124m\"\u001b[39m\n\u001b[0;32m---> 16\u001b[0m sklearn_class \u001b[38;5;241m=\u001b[39m \u001b[43m_tree\u001b[49m\u001b[38;5;241m.\u001b[39mDecisionTreeClassifier\n\u001b[1;32m     19\u001b[0m \u001b[38;5;28;01mdef\u001b[39;00m \u001b[38;5;21mconvert\u001b[39m(model, input_name, output_features):\n\u001b[1;32m     20\u001b[0m \u001b[38;5;250m    \u001b[39m\u001b[38;5;124;03m\"\"\"Convert a decision tree model to protobuf format.\u001b[39;00m\n\u001b[1;32m     21\u001b[0m \n\u001b[1;32m     22\u001b[0m \u001b[38;5;124;03m    Parameters\u001b[39;00m\n\u001b[0;32m   (...)\u001b[0m\n\u001b[1;32m     36\u001b[0m \u001b[38;5;124;03m        Protobuf representation of the model\u001b[39;00m\n\u001b[1;32m     37\u001b[0m \u001b[38;5;124;03m    \"\"\"\u001b[39;00m\n",
      "\u001b[0;31mNameError\u001b[0m: name '_tree' is not defined"
     ]
    }
   ],
   "source": [
    "# Convert the model\n",
    "coreml_model = ct.converters.sklearn.convert(model, input_features=['time', 'day_of_week'], output_feature_names='sleep_stage')\n",
    "\n",
    "# Save the model\n",
    "coreml_model.save(\"SleepStageRandomForest.mlmodel\")\n",
    "# coreml_model.save(\"SleepStageRandomForest.mlpackage\")\n",
    "\n",
    "# Loading the model\n",
    "# with open('my_random_forest_model.pkl', 'rb') as file:\n",
    "#     best_model_loaded = pickle.load(file)"
   ]
  },
  {
   "cell_type": "code",
   "execution_count": null,
   "id": "4cf6e61d",
   "metadata": {},
   "outputs": [],
   "source": []
  }
 ],
 "metadata": {
  "kernelspec": {
   "display_name": "Python 3 (ipykernel)",
   "language": "python",
   "name": "python3"
  },
  "language_info": {
   "codemirror_mode": {
    "name": "ipython",
    "version": 3
   },
   "file_extension": ".py",
   "mimetype": "text/x-python",
   "name": "python",
   "nbconvert_exporter": "python",
   "pygments_lexer": "ipython3",
   "version": "3.11.6"
  }
 },
 "nbformat": 4,
 "nbformat_minor": 5
}
